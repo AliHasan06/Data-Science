{
 "cells": [
  {
   "cell_type": "markdown",
   "metadata": {},
   "source": [
    "#### Handling Missing Data\n"
   ]
  },
  {
   "cell_type": "code",
   "execution_count": 15,
   "metadata": {},
   "outputs": [],
   "source": [
    "import pandas as pd\n",
    "import numpy as np\n",
    "#from sklearn.preprocessing import MinMaxScaler, StandardScaler"
   ]
  },
  {
   "cell_type": "markdown",
   "metadata": {},
   "source": [
    "### methods for handling missing data\n",
    "- dropna()\n",
    "- "
   ]
  },
  {
   "cell_type": "code",
   "execution_count": 25,
   "metadata": {},
   "outputs": [],
   "source": [
    "movies = pd.read_csv(r'C:\\Users\\dilib.DESKTOP-22G1382\\Downloads\\imdb-top-1000.csv')"
   ]
  },
  {
   "cell_type": "code",
   "execution_count": 17,
   "metadata": {},
   "outputs": [
    {
     "name": "stdout",
     "output_type": "stream",
     "text": [
      "<class 'pandas.core.frame.DataFrame'>\n",
      "RangeIndex: 1000 entries, 0 to 999\n",
      "Data columns (total 10 columns):\n",
      " #   Column         Non-Null Count  Dtype  \n",
      "---  ------         --------------  -----  \n",
      " 0   Series_Title   1000 non-null   object \n",
      " 1   Released_Year  1000 non-null   object \n",
      " 2   Runtime        1000 non-null   int64  \n",
      " 3   Genre          1000 non-null   object \n",
      " 4   IMDB_Rating    1000 non-null   float64\n",
      " 5   Director       1000 non-null   object \n",
      " 6   Star1          1000 non-null   object \n",
      " 7   No_of_Votes    1000 non-null   int64  \n",
      " 8   Gross          1000 non-null   float64\n",
      " 9   Metascore      843 non-null    float64\n",
      "dtypes: float64(3), int64(2), object(5)\n",
      "memory usage: 78.3+ KB\n"
     ]
    }
   ],
   "source": [
    "movies.info()"
   ]
  },
  {
   "cell_type": "code",
   "execution_count": 18,
   "metadata": {},
   "outputs": [
    {
     "data": {
      "text/plain": [
       "Series_Title       0\n",
       "Released_Year      0\n",
       "Runtime            0\n",
       "Genre              0\n",
       "IMDB_Rating        0\n",
       "Director           0\n",
       "Star1              0\n",
       "No_of_Votes        0\n",
       "Gross              0\n",
       "Metascore        157\n",
       "dtype: int64"
      ]
     },
     "execution_count": 18,
     "metadata": {},
     "output_type": "execute_result"
    }
   ],
   "source": [
    "movies.isna().sum()"
   ]
  },
  {
   "cell_type": "code",
   "execution_count": 19,
   "metadata": {},
   "outputs": [
    {
     "data": {
      "text/plain": [
       "Series_Title     1000\n",
       "Released_Year    1000\n",
       "Runtime          1000\n",
       "Genre            1000\n",
       "IMDB_Rating      1000\n",
       "Director         1000\n",
       "Star1            1000\n",
       "No_of_Votes      1000\n",
       "Gross            1000\n",
       "Metascore         843\n",
       "dtype: int64"
      ]
     },
     "execution_count": 19,
     "metadata": {},
     "output_type": "execute_result"
    }
   ],
   "source": [
    "movies.notna().sum()"
   ]
  },
  {
   "cell_type": "code",
   "execution_count": 20,
   "metadata": {},
   "outputs": [
    {
     "data": {
      "text/plain": [
       "Series_Title       0\n",
       "Released_Year      0\n",
       "Runtime            0\n",
       "Genre              0\n",
       "IMDB_Rating        0\n",
       "Director           0\n",
       "Star1              0\n",
       "No_of_Votes        0\n",
       "Gross              0\n",
       "Metascore        157\n",
       "dtype: int64"
      ]
     },
     "execution_count": 20,
     "metadata": {},
     "output_type": "execute_result"
    }
   ],
   "source": [
    "movies.isnull().sum()"
   ]
  },
  {
   "cell_type": "code",
   "execution_count": 21,
   "metadata": {},
   "outputs": [
    {
     "data": {
      "text/plain": [
       "Series_Title     1000\n",
       "Released_Year    1000\n",
       "Runtime          1000\n",
       "Genre            1000\n",
       "IMDB_Rating      1000\n",
       "Director         1000\n",
       "Star1            1000\n",
       "No_of_Votes      1000\n",
       "Gross            1000\n",
       "Metascore         843\n",
       "dtype: int64"
      ]
     },
     "execution_count": 21,
     "metadata": {},
     "output_type": "execute_result"
    }
   ],
   "source": [
    "movies.notnull().sum()"
   ]
  },
  {
   "cell_type": "code",
   "execution_count": 22,
   "metadata": {},
   "outputs": [],
   "source": [
    "movies.dropna(inplace=True)"
   ]
  },
  {
   "cell_type": "code",
   "execution_count": 23,
   "metadata": {},
   "outputs": [
    {
     "data": {
      "text/plain": [
       "Series_Title     The Shawshank RedemptionThe GodfatherThe Dark ...\n",
       "Released_Year    1994197220081974195720031994199320101999200119...\n",
       "Runtime                                                     103157\n",
       "Genre            DramaCrimeActionCrimeCrimeActionCrimeBiography...\n",
       "IMDB_Rating                                                 6686.4\n",
       "Director         Frank DarabontFrancis Ford CoppolaChristopher ...\n",
       "Star1            Tim RobbinsMarlon BrandoChristian BaleAl Pacin...\n",
       "No_of_Votes                                              264016757\n",
       "Gross                                                94730916688.0\n",
       "Metascore                                                  65730.0\n",
       "dtype: object"
      ]
     },
     "execution_count": 23,
     "metadata": {},
     "output_type": "execute_result"
    }
   ],
   "source": [
    "movies.dropna().sum()\n"
   ]
  },
  {
   "cell_type": "code",
   "execution_count": 26,
   "metadata": {},
   "outputs": [
    {
     "name": "stdout",
     "output_type": "stream",
     "text": [
      "<class 'pandas.core.frame.DataFrame'>\n",
      "RangeIndex: 1000 entries, 0 to 999\n",
      "Data columns (total 10 columns):\n",
      " #   Column         Non-Null Count  Dtype  \n",
      "---  ------         --------------  -----  \n",
      " 0   Series_Title   1000 non-null   object \n",
      " 1   Released_Year  1000 non-null   object \n",
      " 2   Runtime        1000 non-null   int64  \n",
      " 3   Genre          1000 non-null   object \n",
      " 4   IMDB_Rating    1000 non-null   float64\n",
      " 5   Director       1000 non-null   object \n",
      " 6   Star1          1000 non-null   object \n",
      " 7   No_of_Votes    1000 non-null   int64  \n",
      " 8   Gross          1000 non-null   float64\n",
      " 9   Metascore      843 non-null    float64\n",
      "dtypes: float64(3), int64(2), object(5)\n",
      "memory usage: 78.3+ KB\n"
     ]
    }
   ],
   "source": [
    "movies.info()"
   ]
  },
  {
   "cell_type": "code",
   "execution_count": 29,
   "metadata": {},
   "outputs": [
    {
     "data": {
      "text/plain": [
       "0       80.0\n",
       "1      100.0\n",
       "2       84.0\n",
       "3       90.0\n",
       "4       96.0\n",
       "       ...  \n",
       "995     76.0\n",
       "996     84.0\n",
       "997     85.0\n",
       "998     78.0\n",
       "999     93.0\n",
       "Name: Metascore, Length: 1000, dtype: float64"
      ]
     },
     "execution_count": 29,
     "metadata": {},
     "output_type": "execute_result"
    }
   ],
   "source": [
    "movies['Metascore']"
   ]
  },
  {
   "cell_type": "code",
   "execution_count": null,
   "metadata": {},
   "outputs": [],
   "source": []
  }
 ],
 "metadata": {
  "kernelspec": {
   "display_name": "Python 3",
   "language": "python",
   "name": "python3"
  },
  "language_info": {
   "codemirror_mode": {
    "name": "ipython",
    "version": 3
   },
   "file_extension": ".py",
   "mimetype": "text/x-python",
   "name": "python",
   "nbconvert_exporter": "python",
   "pygments_lexer": "ipython3",
   "version": "3.12.2"
  }
 },
 "nbformat": 4,
 "nbformat_minor": 2
}
