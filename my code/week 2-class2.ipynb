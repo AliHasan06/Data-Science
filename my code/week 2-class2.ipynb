{
 "cells": [
  {
   "cell_type": "markdown",
   "id": "c46dc539-cccb-4303-825f-c0cb7ec91ef1",
   "metadata": {},
   "source": [
    "# if else"
   ]
  },
  {
   "cell_type": "code",
   "execution_count": 26,
   "id": "ba4bdae0-769c-4102-93cd-b247f277b4fe",
   "metadata": {},
   "outputs": [
    {
     "ename": "IndentationError",
     "evalue": "unexpected indent (1688083208.py, line 3)",
     "output_type": "error",
     "traceback": [
      "\u001b[1;36m  Cell \u001b[1;32mIn[26], line 3\u001b[1;36m\u001b[0m\n\u001b[1;33m    if True:\u001b[0m\n\u001b[1;37m    ^\u001b[0m\n\u001b[1;31mIndentationError\u001b[0m\u001b[1;31m:\u001b[0m unexpected indent\n"
     ]
    }
   ],
   "source": [
    "def example():\n",
    "   print(\"Hello\")\n",
    "    if True:\n",
    "   print(\"World\")\n",
    "# It will give a indentation error "
   ]
  },
  {
   "cell_type": "code",
   "execution_count": 10,
   "id": "f84afeb1-2f68-4fdd-a4ee-8e2d0649214b",
   "metadata": {},
   "outputs": [],
   "source": [
    "def example():\n",
    "    print(\"Hello\")\n",
    "    if True:\n",
    "        print(\"World\")  # Correctly indented.\n"
   ]
  },
  {
   "cell_type": "markdown",
   "id": "7b7e1b7b-cd69-4388-9a4c-43ccf17615ad",
   "metadata": {},
   "source": [
    "### syntax"
   ]
  },
  {
   "cell_type": "code",
   "execution_count": 6,
   "id": "dfe96b56-f961-4dbd-8952-cf3ff8243fb4",
   "metadata": {},
   "outputs": [
    {
     "name": "stdout",
     "output_type": "stream",
     "text": [
      "b is greater\n"
     ]
    }
   ],
   "source": [
    "a = 200\n",
    "b= 33\n",
    "if b < a:\n",
    "    print('b is greater')\n",
    "else: \n",
    "    print('a is greater')"
   ]
  },
  {
   "cell_type": "code",
   "execution_count": null,
   "id": "1008c4d7-11e2-4edb-9072-b32377554af5",
   "metadata": {},
   "outputs": [],
   "source": []
  }
 ],
 "metadata": {
  "kernelspec": {
   "display_name": "Python 3 (ipykernel)",
   "language": "python",
   "name": "python3"
  },
  "language_info": {
   "codemirror_mode": {
    "name": "ipython",
    "version": 3
   },
   "file_extension": ".py",
   "mimetype": "text/x-python",
   "name": "python",
   "nbconvert_exporter": "python",
   "pygments_lexer": "ipython3",
   "version": "3.12.4"
  }
 },
 "nbformat": 4,
 "nbformat_minor": 5
}
