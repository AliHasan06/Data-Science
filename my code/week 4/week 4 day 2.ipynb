{
 "cells": [
  {
   "cell_type": "markdown",
   "id": "19e7be4d-b8dc-4ebb-8917-19872a3345d3",
   "metadata": {},
   "source": [
    "# arange in numpy"
   ]
  },
  {
   "cell_type": "markdown",
   "id": "f9231b82-b778-4c2f-a7ef-cda78ba331f7",
   "metadata": {},
   "source": [
    "## np.arange([start], stop, [step], dtype=None)\n"
   ]
  },
  {
   "cell_type": "code",
   "execution_count": 1,
   "id": "5572736b-b4ab-432f-9af3-42115fe818a3",
   "metadata": {},
   "outputs": [],
   "source": [
    "import numpy as np"
   ]
  },
  {
   "cell_type": "code",
   "execution_count": 7,
   "id": "56b4b3e2-9639-427b-baec-5ff5535cdb0f",
   "metadata": {},
   "outputs": [
    {
     "name": "stdout",
     "output_type": "stream",
     "text": [
      "[0 1 2 3 4 5 6 7 8 9]\n"
     ]
    }
   ],
   "source": [
    "arr = np.arange(10)\n",
    "print(arr)"
   ]
  },
  {
   "cell_type": "code",
   "execution_count": 11,
   "id": "48118081-1b69-48a6-ae1c-0dc8a2a29851",
   "metadata": {},
   "outputs": [
    {
     "name": "stdout",
     "output_type": "stream",
     "text": [
      "[ 5  7  9 11 13]\n"
     ]
    }
   ],
   "source": [
    "# Create an array from 5 to 15 with a step of 2\n",
    "arr2 = np.arange(5, 15, 2) \n",
    "print(arr2)"
   ]
  },
  {
   "cell_type": "code",
   "execution_count": 2,
   "id": "104ef4d8-ceb3-417f-97ec-f99ab5e711b8",
   "metadata": {},
   "outputs": [
    {
     "name": "stdout",
     "output_type": "stream",
     "text": [
      "[ 3  7 11 15 19]\n"
     ]
    }
   ],
   "source": [
    "arr3 = np.arange(3,20,4)\n",
    "print(arr3)"
   ]
  },
  {
   "cell_type": "code",
   "execution_count": 119,
   "id": "21f55d1a-02d9-40fc-a26d-a45be54a06e9",
   "metadata": {},
   "outputs": [
    {
     "ename": "SyntaxError",
     "evalue": "incomplete input (4285772355.py, line 1)",
     "output_type": "error",
     "traceback": [
      "\u001b[1;36m  Cell \u001b[1;32mIn[119], line 1\u001b[1;36m\u001b[0m\n\u001b[1;33m    arr4 = np.array([3, 1, 2]\u001b[0m\n\u001b[1;37m                             ^\u001b[0m\n\u001b[1;31mSyntaxError\u001b[0m\u001b[1;31m:\u001b[0m incomplete input\n"
     ]
    }
   ],
   "source": [
    "arr4 = np.array([3, 1, 2]"
   ]
  },
  {
   "cell_type": "code",
   "execution_count": 4,
   "id": "29484de8-b14e-4ed2-9118-cf5a743beb4c",
   "metadata": {},
   "outputs": [
    {
     "data": {
      "text/plain": [
       "array([[ 0,  1,  2,  3,  4,  5,  6,  7,  8],\n",
       "       [ 9, 10, 11, 12, 13, 14, 15, 16, 17],\n",
       "       [18, 19, 20, 21, 22, 23, 24, 25, 26],\n",
       "       [27, 28, 29, 30, 31, 32, 33, 34, 35]])"
      ]
     },
     "execution_count": 4,
     "metadata": {},
     "output_type": "execute_result"
    }
   ],
   "source": [
    "arr2d = np.arange(36).reshape(4,9)\n",
    "arr2d"
   ]
  },
  {
   "cell_type": "code",
   "execution_count": 25,
   "id": "ab7607a1",
   "metadata": {},
   "outputs": [
    {
     "data": {
      "text/plain": [
       "array([[15],\n",
       "       [24],\n",
       "       [33]])"
      ]
     },
     "execution_count": 25,
     "metadata": {},
     "output_type": "execute_result"
    }
   ],
   "source": [
    "arr2d[1:,6:7]"
   ]
  },
  {
   "cell_type": "code",
   "execution_count": 26,
   "id": "98a954b9",
   "metadata": {},
   "outputs": [
    {
     "data": {
      "text/plain": [
       "array([[20],\n",
       "       [29]])"
      ]
     },
     "execution_count": 26,
     "metadata": {},
     "output_type": "execute_result"
    }
   ],
   "source": [
    "arr2d[2:,2:3]"
   ]
  },
  {
   "cell_type": "markdown",
   "id": "9f0c3f8e",
   "metadata": {},
   "source": [
    "arr2d[2:,2:3]\n",
    "[row, column: end]"
   ]
  },
  {
   "cell_type": "code",
   "execution_count": 27,
   "id": "928162c6",
   "metadata": {},
   "outputs": [
    {
     "name": "stdout",
     "output_type": "stream",
     "text": [
      "[[ 0  1  2  3  4  5  6  7  8]\n",
      " [ 9 10 11 12 13 14 15 16 17]\n",
      " [18 19 20 21 22 23 24 25 26]\n",
      " [27 28 29 30 31 32 33 34 35]]\n"
     ]
    }
   ],
   "source": [
    "print(arr2d)"
   ]
  },
  {
   "cell_type": "code",
   "execution_count": 28,
   "id": "a4296bf5",
   "metadata": {},
   "outputs": [
    {
     "data": {
      "text/plain": [
       "array([[33]])"
      ]
     },
     "execution_count": 28,
     "metadata": {},
     "output_type": "execute_result"
    }
   ],
   "source": [
    "arr2d[3:,6:7]"
   ]
  },
  {
   "cell_type": "markdown",
   "id": "aa042258",
   "metadata": {},
   "source": [
    "# 3d data set use case"
   ]
  },
  {
   "cell_type": "markdown",
   "id": "a71f14dc",
   "metadata": {},
   "source": [
    "image \n"
   ]
  },
  {
   "cell_type": "markdown",
   "id": "47872fdc",
   "metadata": {},
   "source": [
    "ek 2d aray mein 2 1d array hotein hain "
   ]
  },
  {
   "cell_type": "markdown",
   "id": "7ab5888d",
   "metadata": {},
   "source": [
    "ek 3d array mein teen 2d array hotien hain"
   ]
  },
  {
   "cell_type": "code",
   "execution_count": 30,
   "id": "d0ceefaa",
   "metadata": {},
   "outputs": [
    {
     "data": {
      "text/plain": [
       "array([[[ 0,  1,  2,  3],\n",
       "        [ 4,  5,  6,  7],\n",
       "        [ 8,  9, 10, 11],\n",
       "        [12, 13, 14, 15]],\n",
       "\n",
       "       [[16, 17, 18, 19],\n",
       "        [20, 21, 22, 23],\n",
       "        [24, 25, 26, 27],\n",
       "        [28, 29, 30, 31]],\n",
       "\n",
       "       [[32, 33, 34, 35],\n",
       "        [36, 37, 38, 39],\n",
       "        [40, 41, 42, 43],\n",
       "        [44, 45, 46, 47]],\n",
       "\n",
       "       [[48, 49, 50, 51],\n",
       "        [52, 53, 54, 55],\n",
       "        [56, 57, 58, 59],\n",
       "        [60, 61, 62, 63]]])"
      ]
     },
     "execution_count": 30,
     "metadata": {},
     "output_type": "execute_result"
    }
   ],
   "source": [
    "arr3d = np.arange(64).reshape(4,4,4)\n",
    "arr3d"
   ]
  },
  {
   "cell_type": "markdown",
   "id": "c245e429",
   "metadata": {},
   "source": [
    "arr3d[1][2][2]\n",
    "first bracket mein konsa matrix ,\n",
    "dosre mein konsa row ,\n",
    " teesre mein konsa column"
   ]
  },
  {
   "cell_type": "code",
   "execution_count": 32,
   "id": "bc92de64",
   "metadata": {},
   "outputs": [
    {
     "data": {
      "text/plain": [
       "27"
      ]
     },
     "execution_count": 32,
     "metadata": {},
     "output_type": "execute_result"
    }
   ],
   "source": [
    "arr3d[1][2][3]"
   ]
  },
  {
   "cell_type": "code",
   "execution_count": 33,
   "id": "075d3ebf",
   "metadata": {},
   "outputs": [
    {
     "data": {
      "text/plain": [
       "array([[[ 0,  1,  2,  3],\n",
       "        [ 4,  5,  6,  7],\n",
       "        [ 8,  9, 10, 11],\n",
       "        [12, 13, 14, 15]],\n",
       "\n",
       "       [[16, 17, 18, 19],\n",
       "        [20, 21, 22, 23],\n",
       "        [24, 25, 26, 27],\n",
       "        [28, 29, 30, 31]],\n",
       "\n",
       "       [[32, 33, 34, 35],\n",
       "        [36, 37, 38, 39],\n",
       "        [40, 41, 42, 43],\n",
       "        [44, 45, 46, 47]],\n",
       "\n",
       "       [[48, 49, 50, 51],\n",
       "        [52, 53, 54, 55],\n",
       "        [56, 57, 58, 59],\n",
       "        [60, 61, 62, 63]]])"
      ]
     },
     "execution_count": 33,
     "metadata": {},
     "output_type": "execute_result"
    }
   ],
   "source": [
    "arr3d"
   ]
  },
  {
   "cell_type": "code",
   "execution_count": 38,
   "id": "fca1646f",
   "metadata": {},
   "outputs": [
    {
     "data": {
      "text/plain": [
       "47"
      ]
     },
     "execution_count": 38,
     "metadata": {},
     "output_type": "execute_result"
    }
   ],
   "source": [
    "arr3d[2][3][3]"
   ]
  },
  {
   "cell_type": "code",
   "execution_count": 39,
   "id": "39837b04",
   "metadata": {},
   "outputs": [
    {
     "data": {
      "text/plain": [
       "array([[[ 0,  1,  2,  3],\n",
       "        [ 4,  5,  6,  7],\n",
       "        [ 8,  9, 10, 11],\n",
       "        [12, 13, 14, 15]],\n",
       "\n",
       "       [[16, 17, 18, 19],\n",
       "        [20, 21, 22, 23],\n",
       "        [24, 25, 26, 27],\n",
       "        [28, 29, 30, 31]],\n",
       "\n",
       "       [[32, 33, 34, 35],\n",
       "        [36, 37, 38, 39],\n",
       "        [40, 41, 42, 43],\n",
       "        [44, 45, 46, 47]],\n",
       "\n",
       "       [[48, 49, 50, 51],\n",
       "        [52, 53, 54, 55],\n",
       "        [56, 57, 58, 59],\n",
       "        [60, 61, 62, 63]]])"
      ]
     },
     "execution_count": 39,
     "metadata": {},
     "output_type": "execute_result"
    }
   ],
   "source": [
    "arr3d"
   ]
  },
  {
   "cell_type": "markdown",
   "id": "b0186418",
   "metadata": {},
   "source": [
    "agr ek value chahiye hoto [][][] use hoga , warna zada values chahiye toh [:,2,32] use hoga"
   ]
  },
  {
   "cell_type": "code",
   "execution_count": 40,
   "id": "86b4df3c",
   "metadata": {},
   "outputs": [
    {
     "data": {
      "text/plain": [
       "array([[32, 33, 34, 35],\n",
       "       [36, 37, 38, 39],\n",
       "       [40, 41, 42, 43],\n",
       "       [44, 45, 46, 47]])"
      ]
     },
     "execution_count": 40,
     "metadata": {},
     "output_type": "execute_result"
    }
   ],
   "source": [
    "arr3d[2][3][3]"
   ]
  },
  {
   "cell_type": "code",
   "execution_count": 41,
   "id": "423595de",
   "metadata": {},
   "outputs": [
    {
     "data": {
      "text/plain": [
       "array([0., 0., 0., 0., 0., 0., 0., 0., 0., 0., 0., 0.])"
      ]
     },
     "execution_count": 41,
     "metadata": {},
     "output_type": "execute_result"
    }
   ],
   "source": [
    "np.zeros(12)"
   ]
  },
  {
   "cell_type": "code",
   "execution_count": 43,
   "id": "9d99d714",
   "metadata": {},
   "outputs": [
    {
     "data": {
      "text/plain": [
       "array([[0., 0., 0., 0., 0.],\n",
       "       [0., 0., 0., 0., 0.],\n",
       "       [0., 0., 0., 0., 0.],\n",
       "       [0., 0., 0., 0., 0.]])"
      ]
     },
     "execution_count": 43,
     "metadata": {},
     "output_type": "execute_result"
    }
   ],
   "source": [
    "np.zeros((4,5),dtype='float')"
   ]
  },
  {
   "cell_type": "code",
   "execution_count": 44,
   "id": "c36752e2",
   "metadata": {},
   "outputs": [
    {
     "data": {
      "text/plain": [
       "array([[0, 0, 0, 0, 0],\n",
       "       [0, 0, 0, 0, 0],\n",
       "       [0, 0, 0, 0, 0],\n",
       "       [0, 0, 0, 0, 0]])"
      ]
     },
     "execution_count": 44,
     "metadata": {},
     "output_type": "execute_result"
    }
   ],
   "source": [
    "np.zeros((4,5),dtype='int')"
   ]
  },
  {
   "cell_type": "code",
   "execution_count": 54,
   "id": "982d09fe",
   "metadata": {},
   "outputs": [
    {
     "data": {
      "text/plain": [
       "array([1., 1., 1., 1., 1.])"
      ]
     },
     "execution_count": 54,
     "metadata": {},
     "output_type": "execute_result"
    }
   ],
   "source": [
    "np.ones(5)"
   ]
  },
  {
   "cell_type": "code",
   "execution_count": 55,
   "id": "851e931a",
   "metadata": {},
   "outputs": [
    {
     "data": {
      "text/plain": [
       "array([[1., 1., 1., 1., 1.],\n",
       "       [1., 1., 1., 1., 1.],\n",
       "       [1., 1., 1., 1., 1.],\n",
       "       [1., 1., 1., 1., 1.],\n",
       "       [1., 1., 1., 1., 1.]])"
      ]
     },
     "execution_count": 55,
     "metadata": {},
     "output_type": "execute_result"
    }
   ],
   "source": [
    "np.ones((5,5))"
   ]
  },
  {
   "cell_type": "code",
   "execution_count": 61,
   "id": "4c777d1f",
   "metadata": {},
   "outputs": [
    {
     "data": {
      "text/plain": [
       "array([[[1, 1, 1, 1, 1],\n",
       "        [1, 1, 1, 1, 1],\n",
       "        [1, 1, 1, 1, 1],\n",
       "        [1, 1, 1, 1, 1]],\n",
       "\n",
       "       [[1, 1, 1, 1, 1],\n",
       "        [1, 1, 1, 1, 1],\n",
       "        [1, 1, 1, 1, 1],\n",
       "        [1, 1, 1, 1, 1]],\n",
       "\n",
       "       [[1, 1, 1, 1, 1],\n",
       "        [1, 1, 1, 1, 1],\n",
       "        [1, 1, 1, 1, 1],\n",
       "        [1, 1, 1, 1, 1]],\n",
       "\n",
       "       [[1, 1, 1, 1, 1],\n",
       "        [1, 1, 1, 1, 1],\n",
       "        [1, 1, 1, 1, 1],\n",
       "        [1, 1, 1, 1, 1]],\n",
       "\n",
       "       [[1, 1, 1, 1, 1],\n",
       "        [1, 1, 1, 1, 1],\n",
       "        [1, 1, 1, 1, 1],\n",
       "        [1, 1, 1, 1, 1]],\n",
       "\n",
       "       [[1, 1, 1, 1, 1],\n",
       "        [1, 1, 1, 1, 1],\n",
       "        [1, 1, 1, 1, 1],\n",
       "        [1, 1, 1, 1, 1]]])"
      ]
     },
     "execution_count": 61,
     "metadata": {},
     "output_type": "execute_result"
    }
   ],
   "source": [
    "np.ones((6,4,5),dtype='int')"
   ]
  },
  {
   "cell_type": "code",
   "execution_count": 6,
   "id": "01e7d05a",
   "metadata": {},
   "outputs": [],
   "source": [
    "identity = np.eye(4) * 2"
   ]
  },
  {
   "cell_type": "code",
   "execution_count": 100,
   "id": "78992892",
   "metadata": {},
   "outputs": [
    {
     "data": {
      "text/plain": [
       "array([[ 0.54773714,  0.43030819, -0.20828147, -1.03598157],\n",
       "       [-0.15381131, -2.07334832, -0.18778256, -1.32960035],\n",
       "       [-0.18603471,  0.58715354, -0.78089925,  2.51247089]])"
      ]
     },
     "execution_count": 100,
     "metadata": {},
     "output_type": "execute_result"
    }
   ],
   "source": [
    "np.random.randn(3,4)"
   ]
  },
  {
   "cell_type": "code",
   "execution_count": 115,
   "id": "d4fc4e85",
   "metadata": {},
   "outputs": [
    {
     "name": "stdout",
     "output_type": "stream",
     "text": [
      "[[ 0  1  2  3  4  5  6  7]\n",
      " [ 8  9 10 11 12 13 14 15]]\n",
      "[[0 1 2 3 4 5 6 7 8 9]]\n"
     ]
    },
    {
     "ename": "ValueError",
     "evalue": "shapes (2,8) and (1,10) not aligned: 8 (dim 1) != 1 (dim 0)",
     "output_type": "error",
     "traceback": [
      "\u001b[1;31m---------------------------------------------------------------------------\u001b[0m",
      "\u001b[1;31mValueError\u001b[0m                                Traceback (most recent call last)",
      "Cell \u001b[1;32mIn[115], line 5\u001b[0m\n\u001b[0;32m      3\u001b[0m \u001b[38;5;28mprint\u001b[39m(a)\n\u001b[0;32m      4\u001b[0m \u001b[38;5;28mprint\u001b[39m(b)\n\u001b[1;32m----> 5\u001b[0m a\u001b[38;5;241m.\u001b[39mdot(b)\n",
      "\u001b[1;31mValueError\u001b[0m: shapes (2,8) and (1,10) not aligned: 8 (dim 1) != 1 (dim 0)"
     ]
    }
   ],
   "source": [
    "a = np.arange(16).reshape(2,8)\n",
    "b = np.arange(10).reshape(1,10)\n",
    "print(a)\n",
    "print(b)\n",
    "a.dot(b)"
   ]
  },
  {
   "cell_type": "code",
   "execution_count": 128,
   "id": "158e8c4b",
   "metadata": {},
   "outputs": [
    {
     "name": "stdout",
     "output_type": "stream",
     "text": [
      "[[ 0  1  2  3  4  5  6  7  8  9 10 11 12 13 14 15]\n",
      " [16 17 18 19 20 21 22 23 24 25 26 27 28 29 30 31]\n",
      " [32 33 34 35 36 37 38 39 40 41 42 43 44 45 46 47]\n",
      " [48 49 50 51 52 53 54 55 56 57 58 59 60 61 62 63]]\n",
      "[[ 0  1  2  3]\n",
      " [ 4  5  6  7]\n",
      " [ 8  9 10 11]\n",
      " [12 13 14 15]\n",
      " [16 17 18 19]\n",
      " [20 21 22 23]\n",
      " [24 25 26 27]\n",
      " [28 29 30 31]\n",
      " [32 33 34 35]\n",
      " [36 37 38 39]\n",
      " [40 41 42 43]\n",
      " [44 45 46 47]\n",
      " [48 49 50 51]\n",
      " [52 53 54 55]\n",
      " [56 57 58 59]\n",
      " [60 61 62 63]]\n"
     ]
    }
   ],
   "source": [
    "a = np.arange(64).reshape(4,16)\n",
    "b = np.arange(64).reshape(16,4)\n",
    "print(a)\n",
    "print(b)"
   ]
  },
  {
   "cell_type": "code",
   "execution_count": null,
   "id": "7220b084",
   "metadata": {},
   "outputs": [],
   "source": []
  }
 ],
 "metadata": {
  "kernelspec": {
   "display_name": "base",
   "language": "python",
   "name": "python3"
  },
  "language_info": {
   "codemirror_mode": {
    "name": "ipython",
    "version": 3
   },
   "file_extension": ".py",
   "mimetype": "text/x-python",
   "name": "python",
   "nbconvert_exporter": "python",
   "pygments_lexer": "ipython3",
   "version": "3.12.4"
  }
 },
 "nbformat": 4,
 "nbformat_minor": 5
}
