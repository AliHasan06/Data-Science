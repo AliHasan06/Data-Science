{
 "cells": [
  {
   "cell_type": "code",
   "execution_count": null,
   "id": "8305ff2a-3813-4b59-a10c-cb26314682a8",
   "metadata": {},
   "outputs": [],
   "source": []
  },
  {
   "cell_type": "code",
   "execution_count": 12,
   "id": "8eb820f9-5182-4f17-8e82-d331b80f43e0",
   "metadata": {},
   "outputs": [
    {
     "name": "stdout",
     "output_type": "stream",
     "text": [
      "8\n"
     ]
    }
   ],
   "source": [
    "a = 8\n",
    "b= 3\n",
    "result = b and a\n",
    "print(result)"
   ]
  },
  {
   "cell_type": "code",
   "execution_count": 13,
   "id": "85e2ff12-b9bf-4f44-8ba9-056b7867cf24",
   "metadata": {},
   "outputs": [
    {
     "name": "stdout",
     "output_type": "stream",
     "text": [
      "Hello, Alice\n"
     ]
    }
   ],
   "source": [
    "code = \"\"\"\n",
    "def greet(name):\n",
    "    return 'Hello, ' + name\n",
    "\n",
    "result = greet('Alice')\n",
    "\"\"\"\n",
    "\n",
    "# Execute the code\n",
    "exec(code)\n",
    "\n",
    "# Access the result variable created in the exec context\n",
    "print(result)  # Output: Hello, Alice\n"
   ]
  },
  {
   "cell_type": "code",
   "execution_count": null,
   "id": "8f454625-ae05-4514-9803-ec93ad4192f2",
   "metadata": {},
   "outputs": [],
   "source": []
  },
  {
   "cell_type": "code",
   "execution_count": null,
   "id": "24576bc2-2e81-4a0b-9f9c-ef72947ca526",
   "metadata": {},
   "outputs": [],
   "source": []
  },
  {
   "cell_type": "code",
   "execution_count": 14,
   "id": "6ffcca30-5423-4a6b-9736-e9a4e4496139",
   "metadata": {},
   "outputs": [
    {
     "name": "stdout",
     "output_type": "stream",
     "text": [
      "Hello, Alice\n"
     ]
    }
   ],
   "source": [
    "code = \"\"\"\n",
    "def greet(name):\n",
    "    return 'Hello, ' + name\n",
    "\n",
    "result = greet('Alice')\n",
    "\"\"\"\n",
    "\n",
    "# Execute the code\n",
    "exec(code)\n",
    "\n",
    "# Access the result variable created in the exec context\n",
    "print(result)  # Output: Hello, Alice\n"
   ]
  },
  {
   "cell_type": "code",
   "execution_count": 15,
   "id": "6b0150fb-3f57-43f7-ac8b-ce454ab3ac7c",
   "metadata": {
    "scrolled": true
   },
   "outputs": [
    {
     "name": "stdout",
     "output_type": "stream",
     "text": [
      "False\n",
      "True\n"
     ]
    }
   ],
   "source": [
    "a = True\n",
    "b = False\n",
    "\n",
    "print(not a)  # Output: False\n",
    "print(not b) "
   ]
  },
  {
   "cell_type": "markdown",
   "id": "d3c20feb-3885-4e5d-b653-dbbfa8913c32",
   "metadata": {},
   "source": [
    "**and use for combine two boolean value , true hai to true ek false hai to output false**"
   ]
  },
  {
   "cell_type": "markdown",
   "id": "a549496f-b23c-46fa-b55e-cad524f29cd8",
   "metadata": {},
   "source": [
    "**exec = runtime pr code ko execute krne keliye use hota hai**"
   ]
  },
  {
   "cell_type": "markdown",
   "id": "a0b4f773-b07d-4521-bad9-4df9ec557e51",
   "metadata": {},
   "source": [
    "**not = boolean value ko reverse krdeta hai true ko false , false ko true**"
   ]
  },
  {
   "cell_type": "markdown",
   "id": "7db41bf5-837b-4e84-8a54-a693eb085b95",
   "metadata": {},
   "source": [
    "**break = ab break statement execute hota hai, loop foran band ho jata hai for while loop main use hota hai**"
   ]
  },
  {
   "cell_type": "code",
   "execution_count": 28,
   "id": "8ed3b713-9cde-4bb3-934f-0881f85053cc",
   "metadata": {},
   "outputs": [
    {
     "name": "stdout",
     "output_type": "stream",
     "text": [
      "7\n"
     ]
    }
   ],
   "source": [
    "i_1 = 1\n",
    "i_2  = 2\n",
    "i_3 = 4\n",
    "t = i_1 + \\\n",
    "i_2 \\\n",
    "+ i_3\n",
    "print(t)"
   ]
  },
  {
   "cell_type": "code",
   "execution_count": null,
   "id": "9f37165b-55a5-4910-baa9-0f82589ce09d",
   "metadata": {},
   "outputs": [],
   "source": [
    "print(1)\n",
    "print()\n",
    "print()"
   ]
  },
  {
   "cell_type": "code",
   "execution_count": 39,
   "id": "8c9ef543-4ff2-49ce-a708-b51b6c824312",
   "metadata": {},
   "outputs": [
    {
     "name": "stdout",
     "output_type": "stream",
     "text": [
      "1 \n",
      "1 2 \n",
      "1 2 3 \n",
      "1 2 3 4 \n",
      "1 2 3 4 5 \n"
     ]
    }
   ],
   "source": [
    "\n",
    "for i in range(1, 6):\n",
    "    for j in range(1, i + 1):\n",
    "        print(j, end=\" \")\n",
    "\n",
    "\n"
   ]
  },
  {
   "cell_type": "code",
   "execution_count": 50,
   "id": "84c1a3e1-07c5-4cd0-9339-da4656c87b30",
   "metadata": {},
   "outputs": [
    {
     "name": "stdout",
     "output_type": "stream",
     "text": [
      "      1\n",
      "     1 2\n",
      "    1 2 3\n",
      "   1 2 3 4\n",
      "  1 2 3 4 5\n"
     ]
    }
   ],
   "source": [
    "print(\"     \", 1 )\n",
    "print(\"    \", 1 , 2 )\n",
    "print(\"   \", 1 , 2 ,3)\n",
    "print(\"  \", 1 , 2 ,3,4)\n",
    "print(\" \", 1 , 2 ,3,4,5)"
   ]
  },
  {
   "cell_type": "code",
   "execution_count": null,
   "id": "ab53e43f-d8df-4e49-9289-bd7dc8acd15f",
   "metadata": {},
   "outputs": [],
   "source": []
  },
  {
   "cell_type": "code",
   "execution_count": 52,
   "id": "59c42e81-6627-4364-926a-186869256412",
   "metadata": {},
   "outputs": [
    {
     "name": "stdout",
     "output_type": "stream",
     "text": [
      "    1\n",
      " 1\n",
      " 1\n",
      " 1\n",
      " 1\n",
      " 1\n",
      " 1\n",
      " 1\n",
      " 1\n",
      " 1\n",
      " 1\n",
      " 1\n",
      " 1\n",
      "\n"
     ]
    }
   ],
   "source": [
    "print(' ' * 4 + '1\\n' ' ' * 4 + '1\\n' ' ' * 4 + '1\\n' ' ' * 4 + '1\\n'  )\n"
   ]
  },
  {
   "cell_type": "code",
   "execution_count": 53,
   "id": "24a9022f-f5e3-4967-a3ed-1ca62442ce3a",
   "metadata": {},
   "outputs": [
    {
     "data": {
      "text/plain": [
       "str"
      ]
     },
     "execution_count": 53,
     "metadata": {},
     "output_type": "execute_result"
    }
   ],
   "source": [
    "type('hello')"
   ]
  },
  {
   "cell_type": "code",
   "execution_count": 54,
   "id": "8a812d49-0f47-43d4-b7be-e30b2afff31f",
   "metadata": {},
   "outputs": [
    {
     "data": {
      "text/plain": [
       "dict"
      ]
     },
     "execution_count": 54,
     "metadata": {},
     "output_type": "execute_result"
    }
   ],
   "source": [
    "type({'name': 'ali' , 'age' : 19})"
   ]
  },
  {
   "cell_type": "code",
   "execution_count": 60,
   "id": "298476d4-644d-42fd-8cb1-19a764ebb5a2",
   "metadata": {},
   "outputs": [
    {
     "data": {
      "text/plain": [
       "set"
      ]
     },
     "execution_count": 60,
     "metadata": {},
     "output_type": "execute_result"
    }
   ],
   "source": [
    "type({21,'sasiah',12,True})"
   ]
  },
  {
   "cell_type": "code",
   "execution_count": 57,
   "id": "a616f1dd-ef6f-40bd-9adf-99043d2accff",
   "metadata": {},
   "outputs": [
    {
     "data": {
      "text/plain": [
       "float"
      ]
     },
     "execution_count": 57,
     "metadata": {},
     "output_type": "execute_result"
    }
   ],
   "source": [
    "type(2196.213)"
   ]
  },
  {
   "cell_type": "code",
   "execution_count": 59,
   "id": "439aab93-f561-430d-bfb3-df965b80b0f1",
   "metadata": {},
   "outputs": [
    {
     "data": {
      "text/plain": [
       "bool"
      ]
     },
     "execution_count": 59,
     "metadata": {},
     "output_type": "execute_result"
    }
   ],
   "source": [
    "type(True)"
   ]
  },
  {
   "cell_type": "code",
   "execution_count": 68,
   "id": "4eb028d5-1c54-46f7-ae3f-149b06ba0281",
   "metadata": {},
   "outputs": [
    {
     "data": {
      "text/plain": [
       "tuple"
      ]
     },
     "execution_count": 68,
     "metadata": {},
     "output_type": "execute_result"
    }
   ],
   "source": [
    "type((1,3,4,5,6,\"a\",7))"
   ]
  },
  {
   "cell_type": "code",
   "execution_count": 63,
   "id": "6e73fb28-1ec1-4189-9a09-7621b486567e",
   "metadata": {},
   "outputs": [
    {
     "data": {
      "text/plain": [
       "dict"
      ]
     },
     "execution_count": 63,
     "metadata": {},
     "output_type": "execute_result"
    }
   ],
   "source": [
    "type({})"
   ]
  },
  {
   "cell_type": "code",
   "execution_count": 64,
   "id": "6e63dcd5-9644-443f-902c-db889d7c6d6b",
   "metadata": {},
   "outputs": [
    {
     "data": {
      "text/plain": [
       "tuple"
      ]
     },
     "execution_count": 64,
     "metadata": {},
     "output_type": "execute_result"
    }
   ],
   "source": [
    "type(())"
   ]
  },
  {
   "cell_type": "code",
   "execution_count": 65,
   "id": "a4e5a3f9-706a-4674-bfa7-87d8e5e0173e",
   "metadata": {},
   "outputs": [
    {
     "data": {
      "text/plain": [
       "list"
      ]
     },
     "execution_count": 65,
     "metadata": {},
     "output_type": "execute_result"
    }
   ],
   "source": [
    "type([])"
   ]
  },
  {
   "cell_type": "code",
   "execution_count": null,
   "id": "a2001402-532e-4c22-ab92-ed01f9e7953a",
   "metadata": {},
   "outputs": [],
   "source": []
  },
  {
   "cell_type": "code",
   "execution_count": 84,
   "id": "88bc8f7f-0ecf-4425-875c-30f84a4a4fa4",
   "metadata": {},
   "outputs": [
    {
     "data": {
      "text/plain": [
       "9"
      ]
     },
     "execution_count": 84,
     "metadata": {},
     "output_type": "execute_result"
    }
   ],
   "source": [
    "str = \"i am here alee\"\n",
    "word = \"ali hasan\" \n",
    "len(str)"
   ]
  },
  {
   "cell_type": "code",
   "execution_count": 71,
   "id": "ec578572-74cb-4bba-83bc-4241b1c41664",
   "metadata": {},
   "outputs": [
    {
     "data": {
      "text/plain": [
       "2"
      ]
     },
     "execution_count": 71,
     "metadata": {},
     "output_type": "execute_result"
    }
   ],
   "source": [
    "str.count('e')"
   ]
  },
  {
   "cell_type": "code",
   "execution_count": 72,
   "id": "1ef710cc-3049-424d-a38a-802bcabf5264",
   "metadata": {},
   "outputs": [
    {
     "data": {
      "text/plain": [
       "0"
      ]
     },
     "execution_count": 72,
     "metadata": {},
     "output_type": "execute_result"
    }
   ],
   "source": [
    "str.find('i')"
   ]
  },
  {
   "cell_type": "code",
   "execution_count": null,
   "id": "85756f44-4f8e-4e87-9bc1-1ebb0fd22594",
   "metadata": {},
   "outputs": [],
   "source": []
  },
  {
   "cell_type": "code",
   "execution_count": 96,
   "id": "3d0e5de5-d9f1-4f63-b11c-440f34fd1e6a",
   "metadata": {},
   "outputs": [
    {
     "data": {
      "text/plain": [
       "8"
      ]
     },
     "execution_count": 96,
     "metadata": {},
     "output_type": "execute_result"
    }
   ],
   "source": [
    "str.find('e',7 , 9)\n"
   ]
  },
  {
   "cell_type": "markdown",
   "id": "bea80d8d-d5f8-41c0-a71a-92fd830ea194",
   "metadata": {},
   "source": [
    "first arg mein word , sec mein kis ke agai se dekh na hai, third mein jahan tak krna hai find"
   ]
  },
  {
   "cell_type": "code",
   "execution_count": 85,
   "id": "ff0b241b-5451-4c01-8e34-8a2d8cc87409",
   "metadata": {},
   "outputs": [
    {
     "data": {
      "text/plain": [
       "True"
      ]
     },
     "execution_count": 85,
     "metadata": {},
     "output_type": "execute_result"
    }
   ],
   "source": [
    "word.endswith('n')"
   ]
  },
  {
   "cell_type": "code",
   "execution_count": 97,
   "id": "0a0b0a31-b6a5-4449-9e30-0d1a7a00d854",
   "metadata": {},
   "outputs": [
    {
     "data": {
      "text/plain": [
       "<function str.center(width, fillchar=' ', /)>"
      ]
     },
     "execution_count": 97,
     "metadata": {},
     "output_type": "execute_result"
    }
   ],
   "source": [
    "word.center"
   ]
  },
  {
   "cell_type": "code",
   "execution_count": 100,
   "id": "a923dd6e-7fa9-4f44-8730-82b69da175fc",
   "metadata": {},
   "outputs": [],
   "source": [
    "str2 = \" aa  \""
   ]
  },
  {
   "cell_type": "code",
   "execution_count": 103,
   "id": "3db0df68-4481-45b4-a0cf-e87ac5874909",
   "metadata": {},
   "outputs": [
    {
     "data": {
      "text/plain": [
       "'aa  '"
      ]
     },
     "execution_count": 103,
     "metadata": {},
     "output_type": "execute_result"
    }
   ],
   "source": [
    "str2.lstrip()"
   ]
  },
  {
   "cell_type": "code",
   "execution_count": 104,
   "id": "44e03544-4daa-4dcd-805a-515293231894",
   "metadata": {},
   "outputs": [
    {
     "data": {
      "text/plain": [
       "' aa'"
      ]
     },
     "execution_count": 104,
     "metadata": {},
     "output_type": "execute_result"
    }
   ],
   "source": [
    "str2.rstrip()"
   ]
  },
  {
   "cell_type": "code",
   "execution_count": 102,
   "id": "f8f0733b-bb3c-482a-83a2-c0ffeb5bf6a6",
   "metadata": {},
   "outputs": [
    {
     "data": {
      "text/plain": [
       "'aa'"
      ]
     },
     "execution_count": 102,
     "metadata": {},
     "output_type": "execute_result"
    }
   ],
   "source": [
    "str2.strip()"
   ]
  },
  {
   "cell_type": "code",
   "execution_count": null,
   "id": "2c65fcec-ff36-4f07-87fc-c650bdc8bc7d",
   "metadata": {},
   "outputs": [],
   "source": [
    "is.alpha() , ' '.isspace()"
   ]
  }
 ],
 "metadata": {
  "kernelspec": {
   "display_name": "Python 3 (ipykernel)",
   "language": "python",
   "name": "python3"
  },
  "language_info": {
   "codemirror_mode": {
    "name": "ipython",
    "version": 3
   },
   "file_extension": ".py",
   "mimetype": "text/x-python",
   "name": "python",
   "nbconvert_exporter": "python",
   "pygments_lexer": "ipython3",
   "version": "3.12.4"
  }
 },
 "nbformat": 4,
 "nbformat_minor": 5
}
