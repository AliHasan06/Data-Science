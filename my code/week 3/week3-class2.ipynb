{
 "cells": [
  {
   "cell_type": "markdown",
   "metadata": {},
   "source": [
    "# dictionary"
   ]
  },
  {
   "cell_type": "code",
   "execution_count": 32,
   "metadata": {},
   "outputs": [
    {
     "name": "stdout",
     "output_type": "stream",
     "text": [
      "a 1\n",
      "a 1\n",
      "e 0\n",
      "a 1\n",
      "e 0\n",
      "i 0\n",
      "a 1\n",
      "e 0\n",
      "i 0\n",
      "o 0\n",
      "a 1\n",
      "e 0\n",
      "i 0\n",
      "o 0\n",
      "u 0\n",
      "a 1\n",
      "e 0\n",
      "i 0\n",
      "o 0\n",
      "u 0\n",
      "A 0\n",
      "a 1\n",
      "e 0\n",
      "i 0\n",
      "o 0\n",
      "u 0\n",
      "A 0\n",
      "E 0\n",
      "a 1\n",
      "e 0\n",
      "i 0\n",
      "o 0\n",
      "u 0\n",
      "A 0\n",
      "E 0\n",
      "I 0\n",
      "a 1\n",
      "e 0\n",
      "i 0\n",
      "o 0\n",
      "u 0\n",
      "A 0\n",
      "E 0\n",
      "I 0\n",
      "O 0\n",
      "a 1\n",
      "e 0\n",
      "i 0\n",
      "o 0\n",
      "u 0\n",
      "A 0\n",
      "E 0\n",
      "I 0\n",
      "O 0\n",
      "U 0\n"
     ]
    },
    {
     "data": {
      "text/plain": [
       "{'a': 1,\n",
       " 'e': 0,\n",
       " 'i': 0,\n",
       " 'o': 0,\n",
       " 'u': 0,\n",
       " 'A': 0,\n",
       " 'E': 0,\n",
       " 'I': 0,\n",
       " 'O': 0,\n",
       " 'U': 0}"
      ]
     },
     "execution_count": 32,
     "metadata": {},
     "output_type": "execute_result"
    }
   ],
   "source": [
    "text  = input(\"Enter a parageaph: \")\n",
    "vowels = \"aeiouAEIOU\"\n",
    "vowel_count={}\n",
    "for vowel in vowels:\n",
    "    vowel_count[vowel] = text.count(vowel)\n",
    "         \n",
    "    for key,value in vowel_count.items():\n",
    "        print(key,value)\n",
    "    \n",
    "vowel_count"
   ]
  },
  {
   "cell_type": "code",
   "execution_count": 33,
   "metadata": {},
   "outputs": [
    {
     "name": "stdout",
     "output_type": "stream",
     "text": [
      "a 2\n",
      "a 2\n",
      "e 0\n",
      "a 2\n",
      "e 0\n",
      "i 0\n",
      "a 2\n",
      "e 0\n",
      "i 0\n",
      "o 0\n",
      "a 2\n",
      "e 0\n",
      "i 0\n",
      "o 0\n",
      "u 0\n",
      "a 2\n",
      "e 0\n",
      "i 0\n",
      "o 0\n",
      "u 0\n",
      "A 0\n",
      "a 2\n",
      "e 0\n",
      "i 0\n",
      "o 0\n",
      "u 0\n",
      "A 0\n",
      "E 0\n",
      "a 2\n",
      "e 0\n",
      "i 0\n",
      "o 0\n",
      "u 0\n",
      "A 0\n",
      "E 0\n",
      "I 0\n",
      "a 2\n",
      "e 0\n",
      "i 0\n",
      "o 0\n",
      "u 0\n",
      "A 0\n",
      "E 0\n",
      "I 0\n",
      "O 0\n",
      "a 2\n",
      "e 0\n",
      "i 0\n",
      "o 0\n",
      "u 0\n",
      "A 0\n",
      "E 0\n",
      "I 0\n",
      "O 0\n",
      "U 0\n"
     ]
    },
    {
     "data": {
      "text/plain": [
       "{'a': 2,\n",
       " 'e': 0,\n",
       " 'i': 0,\n",
       " 'o': 0,\n",
       " 'u': 0,\n",
       " 'A': 0,\n",
       " 'E': 0,\n",
       " 'I': 0,\n",
       " 'O': 0,\n",
       " 'U': 0}"
      ]
     },
     "execution_count": 33,
     "metadata": {},
     "output_type": "execute_result"
    }
   ],
   "source": [
    "text  = input(\"Enter a parageaph: \")\n",
    "vowels = \"aeiouAEIOU\"\n",
    "vowel_count={}\n",
    "for vowel in vowels:\n",
    "    vowel_count[vowel] = text.count(vowel)\n",
    "         \n",
    "    for key,value in vowel_count.items():\n",
    "        print(key,value)\n",
    "    \n",
    "vowel_count\n"
   ]
  },
  {
   "cell_type": "markdown",
   "metadata": {},
   "source": []
  },
  {
   "cell_type": "code",
   "execution_count": 34,
   "metadata": {},
   "outputs": [
    {
     "name": "stdout",
     "output_type": "stream",
     "text": [
      "The vowel 'a' is used the most, with a count of 5\n",
      "{'a': 5, 'e': 0, 'i': 0, 'o': 0, 'u': 0, 'A': 0, 'E': 0, 'I': 0, 'O': 0, 'U': 0}\n"
     ]
    }
   ],
   "source": [
    "text = input(\"Enter a paragraph: \")\n",
    "vowels = \"aeiouAEIOU\"\n",
    "vowel_count = {}\n",
    "\n",
    "for vowel in vowels:\n",
    "    vowel_count[vowel] = text.count(vowel)\n",
    "\n",
    "# Find the vowel with the highest count\n",
    "max_vowel = max(vowel_count, key=vowel_count.get)\n",
    "\n",
    "# Print the vowel with the highest count\n",
    "print(f\"The vowel '{max_vowel}' is used the most, with a count of {vowel_count[max_vowel]}\")\n",
    "\n",
    "# Print the full vowel count dictionary\n",
    "print(vowel_count)"
   ]
  },
  {
   "cell_type": "code",
   "execution_count": 35,
   "metadata": {},
   "outputs": [
    {
     "name": "stdout",
     "output_type": "stream",
     "text": [
      "The vowel 'a' is used the most, with a count of 2\n",
      "{'a': 2, 'e': 0, 'i': 0, 'o': 0, 'u': 1, 'A': 0, 'E': 0, 'I': 0, 'O': 0, 'U': 0}\n"
     ]
    }
   ],
   "source": [
    "text = input(\"Enter a paragraph: \")\n",
    "vowels = \"aeiouAEIOU\"\n",
    "vowel_count = {}\n",
    "\n",
    "for vowel in vowels:\n",
    "    vowel_count[vowel] = text.count(vowel)\n",
    "\n",
    "# Initialize variables to keep track of the vowel with the highest count\n",
    "max_count = 0\n",
    "max_vowel = ''\n",
    "\n",
    "# Iterate over the vowel count dictionary\n",
    "for vowel, count in vowel_count.items():\n",
    "    # Check if this vowel has a higher count than the current max\n",
    "    if count > max_count:\n",
    "        # Update the max count and vowel\n",
    "        max_count = count\n",
    "        max_vowel = vowel\n",
    "\n",
    "# Print the vowel with the highest count\n",
    "print(f\"The vowel '{max_vowel}' is used the most, with a count of {max_count}\")\n",
    "\n",
    "# Print the full vowel count dictionary\n",
    "print(vowel_count)"
   ]
  },
  {
   "cell_type": "code",
   "execution_count": 36,
   "metadata": {},
   "outputs": [
    {
     "name": "stdout",
     "output_type": "stream",
     "text": [
      "(0, 10)\n",
      "(1, 20)\n",
      "(2, 30)\n",
      "(3, 40)\n",
      "(4, 50)\n",
      "(5, 60)\n",
      "(6, 70)\n",
      "(7, 80)\n",
      "(8, 90)\n",
      "(9, 100)\n"
     ]
    }
   ],
   "source": [
    "number = [10, 20, 30, 40, 50, 60, 70, 80, 90, 100]\n",
    "\n",
    "for i in enumerate(number):\n",
    "    print(i)"
   ]
  },
  {
   "cell_type": "markdown",
   "metadata": {},
   "source": []
  },
  {
   "cell_type": "code",
   "execution_count": null,
   "metadata": {},
   "outputs": [],
   "source": []
  }
 ],
 "metadata": {
  "kernelspec": {
   "display_name": "base",
   "language": "python",
   "name": "python3"
  },
  "language_info": {
   "codemirror_mode": {
    "name": "ipython",
    "version": 3
   },
   "file_extension": ".py",
   "mimetype": "text/x-python",
   "name": "python",
   "nbconvert_exporter": "python",
   "pygments_lexer": "ipython3",
   "version": "3.12.4"
  }
 },
 "nbformat": 4,
 "nbformat_minor": 2
}
