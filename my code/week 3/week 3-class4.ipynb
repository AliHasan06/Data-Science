{
 "cells": [
  {
   "cell_type": "markdown",
   "metadata": {},
   "source": [
    "### Task: Write a function that tells how many characters, words and sentences are there in a given paragraph"
   ]
  },
  {
   "cell_type": "code",
   "execution_count": 12,
   "metadata": {},
   "outputs": [],
   "source": [
    "def text_counts(txt):\n",
    "    chars_count = len(txt)\n",
    "    words_count =len(txt.split())\n",
    "    sents_count = len(txt.split('.'))-1\n",
    "    print(f\"\"\"\n",
    "       words : {words_count}\n",
    "       sentence: {sents_count}\n",
    "       char:   : {chars_count}\n",
    "    \"\"\")\n",
    "\n",
    "    "
   ]
  },
  {
   "cell_type": "code",
   "execution_count": 14,
   "metadata": {},
   "outputs": [
    {
     "name": "stdout",
     "output_type": "stream",
     "text": [
      "\n",
      "       words : 12\n",
      "       sentence: 2\n",
      "       char:   : 51\n",
      "    \n"
     ]
    }
   ],
   "source": [
    "text_counts(\"I am a text for counting. I am a text for counting.\")"
   ]
  },
  {
   "cell_type": "markdown",
   "metadata": {},
   "source": [
    "# practice questions "
   ]
  },
  {
   "cell_type": "code",
   "execution_count": 18,
   "metadata": {},
   "outputs": [
    {
     "name": "stdout",
     "output_type": "stream",
     "text": [
      "<class 'str'>\n"
     ]
    }
   ],
   "source": [
    "# Create a variable named greeting and assign it the string \"Hello, Data Science!\". Print the data type of this variable.\n",
    "greeting = \"Hello, Data Science!\"\n",
    "print(type(greeting))"
   ]
  },
  {
   "cell_type": "code",
   "execution_count": 20,
   "metadata": {},
   "outputs": [
    {
     "name": "stdout",
     "output_type": "stream",
     "text": [
      "<class 'float'>\n",
      "<class 'int'>\n",
      "9\n"
     ]
    }
   ],
   "source": [
    "# Create a variable named price and assign it a float value. Convert it to an integer and print both the float and integer values.\n",
    "price = 9.99\n",
    "print(type(price))\n",
    "\n",
    "int_price = int(price)\n",
    "\n",
    "print(type(int_price))\n",
    "\n",
    "print(int_price)\n",
    "\n"
   ]
  },
  {
   "cell_type": "code",
   "execution_count": null,
   "metadata": {},
   "outputs": [],
   "source": [
    "# Write a program that takes a user's name and age as input and prints the message\n"
   ]
  },
  {
   "cell_type": "code",
   "execution_count": null,
   "metadata": {},
   "outputs": [],
   "source": []
  },
  {
   "cell_type": "code",
   "execution_count": null,
   "metadata": {},
   "outputs": [],
   "source": []
  },
  {
   "cell_type": "code",
   "execution_count": null,
   "metadata": {},
   "outputs": [],
   "source": []
  },
  {
   "cell_type": "markdown",
   "metadata": {},
   "source": []
  }
 ],
 "metadata": {
  "kernelspec": {
   "display_name": "base",
   "language": "python",
   "name": "python3"
  },
  "language_info": {
   "codemirror_mode": {
    "name": "ipython",
    "version": 3
   },
   "file_extension": ".py",
   "mimetype": "text/x-python",
   "name": "python",
   "nbconvert_exporter": "python",
   "pygments_lexer": "ipython3",
   "version": "3.12.4"
  }
 },
 "nbformat": 4,
 "nbformat_minor": 2
}
