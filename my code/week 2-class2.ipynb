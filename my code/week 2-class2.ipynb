{
 "cells": [
  {
   "cell_type": "markdown",
   "id": "c46dc539-cccb-4303-825f-c0cb7ec91ef1",
   "metadata": {},
   "source": [
    "# if else"
   ]
  },
  {
   "cell_type": "code",
   "execution_count": 26,
   "id": "ba4bdae0-769c-4102-93cd-b247f277b4fe",
   "metadata": {},
   "outputs": [
    {
     "ename": "IndentationError",
     "evalue": "unexpected indent (1688083208.py, line 3)",
     "output_type": "error",
     "traceback": [
      "\u001b[1;36m  Cell \u001b[1;32mIn[26], line 3\u001b[1;36m\u001b[0m\n\u001b[1;33m    if True:\u001b[0m\n\u001b[1;37m    ^\u001b[0m\n\u001b[1;31mIndentationError\u001b[0m\u001b[1;31m:\u001b[0m unexpected indent\n"
     ]
    }
   ],
   "source": [
    "def example():\n",
    "   print(\"Hello\")\n",
    "    if True:\n",
    "   print(\"World\")\n",
    "# It will give a indentation error "
   ]
  },
  {
   "cell_type": "code",
   "execution_count": 10,
   "id": "f84afeb1-2f68-4fdd-a4ee-8e2d0649214b",
   "metadata": {},
   "outputs": [],
   "source": [
    "def example():\n",
    "    print(\"Hello\")\n",
    "    if True:\n",
    "        print(\"World\")  # Correctly indented.\n"
   ]
  },
  {
   "cell_type": "markdown",
   "id": "7b7e1b7b-cd69-4388-9a4c-43ccf17615ad",
   "metadata": {},
   "source": [
    "### syntax"
   ]
  },
  {
   "cell_type": "code",
   "execution_count": 6,
   "id": "dfe96b56-f961-4dbd-8952-cf3ff8243fb4",
   "metadata": {},
   "outputs": [
    {
     "name": "stdout",
     "output_type": "stream",
     "text": [
      "b is greater\n"
     ]
    }
   ],
   "source": [
    "a = 200\n",
    "b= 33\n",
    "if b < a:\n",
    "    print('b is greater')\n",
    "else: \n",
    "    print('a is greater')"
   ]
  },
  {
   "cell_type": "markdown",
   "id": "c8cdcadd",
   "metadata": {},
   "source": [
    "  .lower() .sub()"
   ]
  },
  {
   "cell_type": "markdown",
   "id": "53c7a02d",
   "metadata": {},
   "source": [
    "# Arithmetic operators"
   ]
  },
  {
   "cell_type": "code",
   "execution_count": 4,
   "id": "bda6976c",
   "metadata": {},
   "outputs": [
    {
     "name": "stdout",
     "output_type": "stream",
     "text": [
      "Addition: 15\n",
      "Subtraction: 5\n",
      "Multiplication: 50\n",
      "Division: 2.0\n"
     ]
    }
   ],
   "source": [
    "# Example \n",
    "# calculator \n",
    "\n",
    "a = 10\n",
    "b = 5\n",
    "\n",
    "sum = a + b \n",
    "\n",
    "print(\"Addition:\", a+b)\n",
    "print(\"Subtraction:\", a-b)\n",
    "print(\"Multiplication:\", a*b)\n",
    "print(\"Division:\", a/b)\n"
   ]
  },
  {
   "cell_type": "markdown",
   "id": "a345b2ae",
   "metadata": {},
   "source": [
    "# exponentiation and modules"
   ]
  },
  {
   "cell_type": "code",
   "execution_count": 8,
   "id": "1e4539c8",
   "metadata": {},
   "outputs": [
    {
     "name": "stdout",
     "output_type": "stream",
     "text": [
      "Exponentiation: 256\n"
     ]
    }
   ],
   "source": [
    "a = 4\n",
    "b = 4\n",
    "\n",
    "print(\"Exponentiation:\", a**b)\n"
   ]
  },
  {
   "cell_type": "code",
   "execution_count": 10,
   "id": "97d06c18",
   "metadata": {},
   "outputs": [
    {
     "name": "stdout",
     "output_type": "stream",
     "text": [
      "result of (3+4) * 4 ** 2 / 2 is 56.0\n"
     ]
    }
   ],
   "source": [
    "# example \n",
    "result = (3+4) * 4 ** 2 / 2\n",
    "print(\"result of (3+4) * 4 ** 2 / 2 is\", result)"
   ]
  },
  {
   "cell_type": "code",
   "execution_count": 14,
   "id": "59065c38",
   "metadata": {},
   "outputs": [
    {
     "name": "stdout",
     "output_type": "stream",
     "text": [
      "total price 198.0\n"
     ]
    }
   ],
   "source": [
    "# example\n",
    "price = 100\n",
    "tax_rate = 0.98\n",
    "total_price = price + (price * tax_rate)\n",
    "print( \"total price\" ,total_price)"
   ]
  },
  {
   "cell_type": "code",
   "execution_count": null,
   "id": "a0a5d1e0",
   "metadata": {},
   "outputs": [],
   "source": []
  },
  {
   "cell_type": "markdown",
   "id": "0df5da68",
   "metadata": {},
   "source": [
    "# input\n"
   ]
  },
  {
   "cell_type": "code",
   "execution_count": 19,
   "id": "c67529ca",
   "metadata": {},
   "outputs": [
    {
     "name": "stdout",
     "output_type": "stream",
     "text": [
      "Hello, jka!\n"
     ]
    }
   ],
   "source": [
    "name = input('enter your name: ')\n",
    "age = input('enter your age ')\n",
    "print(\"Hello, \" + name + \"!\")"
   ]
  },
  {
   "cell_type": "code",
   "execution_count": 39,
   "id": "7e0c5309",
   "metadata": {},
   "outputs": [],
   "source": [
    "num1 = input(\"Enter the first number\")\n",
    "num2 = input(\"Enter the second number\")\n",
    "\n",
    "# sum = (num1) + (num2)\n",
    "# this will concatrate\n",
    "\n",
    "sum = int(float(num1)) + int(float(num2))\n",
    "#  \n",
    "# this will add\n",
    "print(\"Sum of the two numbers is:\",float(num1))"
   ]
  },
  {
   "cell_type": "markdown",
   "id": "c8794f02",
   "metadata": {},
   "source": [
    "# Type Casting\n"
   ]
  },
  {
   "cell_type": "markdown",
   "id": "ebfc8884",
   "metadata": {},
   "source": [
    "### there are two types\n",
    "## implicit casting\n",
    "## explicit casting "
   ]
  },
  {
   "cell_type": "markdown",
   "id": "886bed5e",
   "metadata": {},
   "source": [
    "### Implicit Type casting"
   ]
  },
  {
   "cell_type": "markdown",
   "id": "a5392c8c",
   "metadata": {},
   "source": [
    "implicit = python khud samjh jata hai type\n"
   ]
  },
  {
   "cell_type": "markdown",
   "id": "20f25c93",
   "metadata": {},
   "source": [
    "### Explicit Type casting"
   ]
  },
  {
   "cell_type": "markdown",
   "id": "53654368",
   "metadata": {},
   "source": [
    "Explicit = type define krni pare"
   ]
  },
  {
   "cell_type": "code",
   "execution_count": 37,
   "id": "fa081695",
   "metadata": {},
   "outputs": [],
   "source": []
  },
  {
   "cell_type": "code",
   "execution_count": null,
   "id": "d8c50d8a",
   "metadata": {},
   "outputs": [],
   "source": []
  }
 ],
 "metadata": {
  "kernelspec": {
   "display_name": "Python 3 (ipykernel)",
   "language": "python",
   "name": "python3"
  },
  "language_info": {
   "codemirror_mode": {
    "name": "ipython",
    "version": 3
   },
   "file_extension": ".py",
   "mimetype": "text/x-python",
   "name": "python",
   "nbconvert_exporter": "python",
   "pygments_lexer": "ipython3",
   "version": "3.12.4"
  }
 },
 "nbformat": 4,
 "nbformat_minor": 5
}
