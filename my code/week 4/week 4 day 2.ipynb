{
 "cells": [
  {
   "cell_type": "markdown",
   "id": "19e7be4d-b8dc-4ebb-8917-19872a3345d3",
   "metadata": {},
   "source": [
    "# arange in numpy"
   ]
  },
  {
   "cell_type": "markdown",
   "id": "f9231b82-b778-4c2f-a7ef-cda78ba331f7",
   "metadata": {},
   "source": [
    "## np.arange([start], stop, [step], dtype=None)\r\n"
   ]
  },
  {
   "cell_type": "code",
   "execution_count": 3,
   "id": "5572736b-b4ab-432f-9af3-42115fe818a3",
   "metadata": {},
   "outputs": [],
   "source": [
    "import numpy as np"
   ]
  },
  {
   "cell_type": "code",
   "execution_count": 7,
   "id": "56b4b3e2-9639-427b-baec-5ff5535cdb0f",
   "metadata": {},
   "outputs": [
    {
     "name": "stdout",
     "output_type": "stream",
     "text": [
      "[0 1 2 3 4 5 6 7 8 9]\n"
     ]
    }
   ],
   "source": [
    "arr = np.arange(10)\n",
    "print(arr)"
   ]
  },
  {
   "cell_type": "code",
   "execution_count": 11,
   "id": "48118081-1b69-48a6-ae1c-0dc8a2a29851",
   "metadata": {},
   "outputs": [
    {
     "name": "stdout",
     "output_type": "stream",
     "text": [
      "[ 5  7  9 11 13]\n"
     ]
    }
   ],
   "source": [
    "# Create an array from 5 to 15 with a step of 2\n",
    "arr2 = np.arange(5, 15, 2) \n",
    "print(arr2)"
   ]
  },
  {
   "cell_type": "code",
   "execution_count": 21,
   "id": "104ef4d8-ceb3-417f-97ec-f99ab5e711b8",
   "metadata": {},
   "outputs": [
    {
     "name": "stdout",
     "output_type": "stream",
     "text": [
      "[ 3  7 11 15 19]\n"
     ]
    }
   ],
   "source": [
    "arr3 = np.arange(3,20,4)\n",
    "print(arr3)"
   ]
  },
  {
   "cell_type": "code",
   "execution_count": 23,
   "id": "21f55d1a-02d9-40fc-a26d-a45be54a06e9",
   "metadata": {},
   "outputs": [
    {
     "ename": "SyntaxError",
     "evalue": "incomplete input (4285772355.py, line 1)",
     "output_type": "error",
     "traceback": [
      "\u001b[1;36m  Cell \u001b[1;32mIn[23], line 1\u001b[1;36m\u001b[0m\n\u001b[1;33m    arr4 = np.array([3, 1, 2]\u001b[0m\n\u001b[1;37m                             ^\u001b[0m\n\u001b[1;31mSyntaxError\u001b[0m\u001b[1;31m:\u001b[0m incomplete input\n"
     ]
    }
   ],
   "source": [
    "arr4 = np.array([3, 1, 2]"
   ]
  },
  {
   "cell_type": "code",
   "execution_count": null,
   "id": "29484de8-b14e-4ed2-9118-cf5a743beb4c",
   "metadata": {},
   "outputs": [],
   "source": []
  }
 ],
 "metadata": {
  "kernelspec": {
   "display_name": "Python 3 (ipykernel)",
   "language": "python",
   "name": "python3"
  },
  "language_info": {
   "codemirror_mode": {
    "name": "ipython",
    "version": 3
   },
   "file_extension": ".py",
   "mimetype": "text/x-python",
   "name": "python",
   "nbconvert_exporter": "python",
   "pygments_lexer": "ipython3",
   "version": "3.12.4"
  }
 },
 "nbformat": 4,
 "nbformat_minor": 5
}
