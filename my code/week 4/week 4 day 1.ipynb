{
 "cells": [
  {
   "cell_type": "markdown",
   "id": "11204536-a09f-4ca1-9079-fad8281afc70",
   "metadata": {},
   "source": [
    "# numpy"
   ]
  },
  {
   "cell_type": "code",
   "execution_count": 2,
   "id": "89ee2718-42b6-4038-bc15-d92194e7522d",
   "metadata": {},
   "outputs": [],
   "source": [
    "import numpy as  np"
   ]
  },
  {
   "cell_type": "code",
   "execution_count": 12,
   "id": "254b8832-5637-42cd-b5ff-68e25ef63ec3",
   "metadata": {},
   "outputs": [
    {
     "name": "stdout",
     "output_type": "stream",
     "text": [
      "<class 'list'>\n",
      "<class 'numpy.ndarray'>\n",
      "[1 2 3 4 5 6 7 8 9]\n"
     ]
    }
   ],
   "source": [
    "# using python list\n",
    "lst = [1,2,3,4,5,6,7,8,9]\n",
    "print(type(lst))\n",
    "\n",
    "arr1d = np.array(lst)\n",
    "print(type(arr1d))\n",
    "print(arr1d)"
   ]
  },
  {
   "cell_type": "code",
   "execution_count": 14,
   "id": "fb1539a4-04e1-4dd1-9e73-c643b8f43374",
   "metadata": {},
   "outputs": [
    {
     "data": {
      "text/plain": [
       "[1, 2, 3, 4, 5, 6, 7, 8, 9]"
      ]
     },
     "execution_count": 14,
     "metadata": {},
     "output_type": "execute_result"
    }
   ],
   "source": [
    "lst"
   ]
  },
  {
   "cell_type": "code",
   "execution_count": 16,
   "id": "e34aae2f-8c3c-4939-861d-6bc2b967dfdf",
   "metadata": {},
   "outputs": [
    {
     "data": {
      "text/plain": [
       "array([ 2,  4,  6,  8, 10, 12, 14, 16, 18])"
      ]
     },
     "execution_count": 16,
     "metadata": {},
     "output_type": "execute_result"
    }
   ],
   "source": [
    "arr1d * 2"
   ]
  },
  {
   "cell_type": "code",
   "execution_count": 18,
   "id": "d860e0b9-e94a-404a-b477-892fba0ed1a2",
   "metadata": {},
   "outputs": [
    {
     "data": {
      "text/plain": [
       "array([-1,  0,  1,  2,  3,  4,  5,  6,  7])"
      ]
     },
     "execution_count": 18,
     "metadata": {},
     "output_type": "execute_result"
    }
   ],
   "source": [
    "arr1d - 2"
   ]
  },
  {
   "cell_type": "code",
   "execution_count": 20,
   "id": "b7c4ac3b-dd07-4741-be95-46b3c7060f56",
   "metadata": {},
   "outputs": [
    {
     "data": {
      "text/plain": [
       "array([ 3,  4,  5,  6,  7,  8,  9, 10, 11])"
      ]
     },
     "execution_count": 20,
     "metadata": {},
     "output_type": "execute_result"
    }
   ],
   "source": [
    "arr1d + 2"
   ]
  },
  {
   "cell_type": "code",
   "execution_count": 22,
   "id": "52a9f3f9-44a7-4b1a-9793-21eea3f28fd4",
   "metadata": {},
   "outputs": [
    {
     "data": {
      "text/plain": [
       "array([1, 0, 1, 0, 1, 0, 1, 0, 1], dtype=int32)"
      ]
     },
     "execution_count": 22,
     "metadata": {},
     "output_type": "execute_result"
    }
   ],
   "source": [
    "arr1d % 2"
   ]
  },
  {
   "cell_type": "code",
   "execution_count": 28,
   "id": "9a373638-af6d-46fb-bb11-f0b1d1141ad5",
   "metadata": {},
   "outputs": [
    {
     "data": {
      "text/plain": [
       "array([0.5, 1. , 1.5, 2. , 2.5, 3. , 3.5, 4. , 4.5])"
      ]
     },
     "execution_count": 28,
     "metadata": {},
     "output_type": "execute_result"
    }
   ],
   "source": [
    "arr1d / 2"
   ]
  },
  {
   "cell_type": "code",
   "execution_count": 30,
   "id": "6d5a0f5c-2f8d-43d7-b05c-1be1416ddd4f",
   "metadata": {},
   "outputs": [
    {
     "data": {
      "text/plain": [
       "9"
      ]
     },
     "execution_count": 30,
     "metadata": {},
     "output_type": "execute_result"
    }
   ],
   "source": [
    "arr1d.size"
   ]
  },
  {
   "cell_type": "code",
   "execution_count": 32,
   "id": "4a6d968e-b1ee-4524-9fc2-cb9d5fbfae7c",
   "metadata": {},
   "outputs": [
    {
     "data": {
      "text/plain": [
       "1"
      ]
     },
     "execution_count": 32,
     "metadata": {},
     "output_type": "execute_result"
    }
   ],
   "source": [
    "arr1d.ndim"
   ]
  },
  {
   "cell_type": "code",
   "execution_count": 34,
   "id": "394d9b27-b42e-4157-976c-8e373e7e0718",
   "metadata": {},
   "outputs": [
    {
     "data": {
      "text/plain": [
       "(9,)"
      ]
     },
     "execution_count": 34,
     "metadata": {},
     "output_type": "execute_result"
    }
   ],
   "source": [
    "arr1d.shape"
   ]
  },
  {
   "cell_type": "code",
   "execution_count": 46,
   "id": "54a31068-576c-4dbe-a1b4-27f61e7d92ba",
   "metadata": {},
   "outputs": [
    {
     "data": {
      "text/plain": [
       "array([0, 1, 2, 3, 4, 5, 6, 7, 8, 9])"
      ]
     },
     "execution_count": 46,
     "metadata": {},
     "output_type": "execute_result"
    }
   ],
   "source": [
    "arr1d = np.arange(10)\n",
    "arr1d"
   ]
  },
  {
   "cell_type": "code",
   "execution_count": 54,
   "id": "21caec01-ab66-4080-a9a9-bd4b65f0bf7e",
   "metadata": {},
   "outputs": [
    {
     "data": {
      "text/plain": [
       "[[1, 2, 3], [11, 22, 33], [111, 222, 333]]"
      ]
     },
     "execution_count": 54,
     "metadata": {},
     "output_type": "execute_result"
    }
   ],
   "source": [
    "lst2d = [[1,2,3], [11,22,33],[111,222,333]]\n",
    "lst2d"
   ]
  },
  {
   "cell_type": "code",
   "execution_count": 62,
   "id": "d29a4beb-0e91-415f-b16b-54eefa9d1eff",
   "metadata": {},
   "outputs": [
    {
     "name": "stdout",
     "output_type": "stream",
     "text": [
      "[[  1   2   3]\n",
      " [ 11  22  33]\n",
      " [111 222 333]]\n"
     ]
    }
   ],
   "source": [
    "arr2d = np.array(lst2d)\n",
    "print(arr2d)"
   ]
  },
  {
   "cell_type": "code",
   "execution_count": 60,
   "id": "5e1b2769-3b4f-47fe-b94c-ac13e8040f4c",
   "metadata": {},
   "outputs": [
    {
     "data": {
      "text/plain": [
       "2"
      ]
     },
     "execution_count": 60,
     "metadata": {},
     "output_type": "execute_result"
    }
   ],
   "source": [
    "arr2d.ndim"
   ]
  },
  {
   "cell_type": "code",
   "execution_count": 84,
   "id": "afc23c97-b17a-4e8c-aed7-9fbdadf2221e",
   "metadata": {},
   "outputs": [
    {
     "name": "stdout",
     "output_type": "stream",
     "text": [
      "[[ 0  1  2  3  4  5  6  7  8]\n",
      " [ 9 10 11 12 13 14 15 16 17]\n",
      " [18 19 20 21 22 23 24 25 26]\n",
      " [27 28 29 30 31 32 33 34 35]]\n"
     ]
    }
   ],
   "source": [
    "arr2d = np.arange(36).reshape(4,9)\n",
    "print(arr2d)"
   ]
  },
  {
   "cell_type": "code",
   "execution_count": 94,
   "id": "dad6dc1b-7aac-4196-bc09-79aa73b4b715",
   "metadata": {},
   "outputs": [
    {
     "name": "stdout",
     "output_type": "stream",
     "text": [
      "[0 1 2 3 4 5 6 7 8 9]\n"
     ]
    },
    {
     "data": {
      "text/plain": [
       "7"
      ]
     },
     "execution_count": 94,
     "metadata": {},
     "output_type": "execute_result"
    }
   ],
   "source": [
    "print(arr1d)\n",
    "arr1d[7]"
   ]
  },
  {
   "cell_type": "code",
   "execution_count": 88,
   "id": "92f5458a-0a75-4fda-bae4-6905f90556d4",
   "metadata": {},
   "outputs": [
    {
     "data": {
      "text/plain": [
       "5"
      ]
     },
     "execution_count": 88,
     "metadata": {},
     "output_type": "execute_result"
    }
   ],
   "source": [
    "arr1d[5]"
   ]
  },
  {
   "cell_type": "code",
   "execution_count": 90,
   "id": "8e18e73c-24d0-401a-a602-fa4f51a154c3",
   "metadata": {},
   "outputs": [
    {
     "data": {
      "text/plain": [
       "array([[ 0,  1,  2,  3,  4,  5,  6,  7,  8],\n",
       "       [ 9, 10, 11, 12, 13, 14, 15, 16, 17],\n",
       "       [18, 19, 20, 21, 22, 23, 24, 25, 26],\n",
       "       [27, 28, 29, 30, 31, 32, 33, 34, 35]])"
      ]
     },
     "execution_count": 90,
     "metadata": {},
     "output_type": "execute_result"
    }
   ],
   "source": [
    "arr2d"
   ]
  },
  {
   "cell_type": "code",
   "execution_count": 110,
   "id": "0335201a-c14a-477f-9b4b-5243c4e6c48f",
   "metadata": {},
   "outputs": [
    {
     "data": {
      "text/plain": [
       "35"
      ]
     },
     "execution_count": 110,
     "metadata": {},
     "output_type": "execute_result"
    }
   ],
   "source": [
    "arr2d[-1][-1]"
   ]
  },
  {
   "cell_type": "code",
   "execution_count": 108,
   "id": "293f062b-0752-4cad-b62e-343d6eb5262a",
   "metadata": {},
   "outputs": [
    {
     "data": {
      "text/plain": [
       "array([4, 5, 6, 7])"
      ]
     },
     "execution_count": 108,
     "metadata": {},
     "output_type": "execute_result"
    }
   ],
   "source": [
    "arr1d[4:8]"
   ]
  },
  {
   "cell_type": "code",
   "execution_count": 126,
   "id": "28986030-a1a6-4a84-acb2-8dc0d8526158",
   "metadata": {},
   "outputs": [
    {
     "data": {
      "text/plain": [
       "array([[27, 28, 29, 30, 31, 32, 33, 34, 35]])"
      ]
     },
     "execution_count": 126,
     "metadata": {},
     "output_type": "execute_result"
    }
   ],
   "source": [
    "arr2d[3:4]"
   ]
  },
  {
   "cell_type": "code",
   "execution_count": 128,
   "id": "6fbaea89-da4d-4b6f-93c9-ca73c62a6b78",
   "metadata": {},
   "outputs": [
    {
     "data": {
      "text/plain": [
       "array([[11, 12, 13, 14, 15]])"
      ]
     },
     "execution_count": 128,
     "metadata": {},
     "output_type": "execute_result"
    }
   ],
   "source": [
    "arr2d[1:2,2:7]"
   ]
  },
  {
   "cell_type": "code",
   "execution_count": 164,
   "id": "e7795054-4570-4a48-8c41-11fbca7f7b4d",
   "metadata": {},
   "outputs": [
    {
     "data": {
      "text/plain": [
       "array([[ 0,  1,  2,  3,  4,  5,  6,  7,  8],\n",
       "       [ 9, 10, 11, 12, 13, 14, 15, 16, 17],\n",
       "       [18, 19, 20, 21, 22, 23, 24, 25, 26],\n",
       "       [27, 28, 29, 30, 31, 32, 33, 34, 35]])"
      ]
     },
     "execution_count": 164,
     "metadata": {},
     "output_type": "execute_result"
    }
   ],
   "source": [
    "\n",
    "arr2d"
   ]
  },
  {
   "cell_type": "code",
   "execution_count": 178,
   "id": "e8565c62-7543-4b5e-9907-3356af47f6ba",
   "metadata": {},
   "outputs": [
    {
     "data": {
      "text/plain": [
       "array([10, 19, 28])"
      ]
     },
     "execution_count": 178,
     "metadata": {},
     "output_type": "execute_result"
    }
   ],
   "source": [
    "arr2d[1:,1]"
   ]
  },
  {
   "cell_type": "code",
   "execution_count": null,
   "id": "a9ea4998-2008-48cd-97c3-abd0d372e28d",
   "metadata": {},
   "outputs": [],
   "source": []
  }
 ],
 "metadata": {
  "kernelspec": {
   "display_name": "Python 3 (ipykernel)",
   "language": "python",
   "name": "python3"
  },
  "language_info": {
   "codemirror_mode": {
    "name": "ipython",
    "version": 3
   },
   "file_extension": ".py",
   "mimetype": "text/x-python",
   "name": "python",
   "nbconvert_exporter": "python",
   "pygments_lexer": "ipython3",
   "version": "3.12.4"
  }
 },
 "nbformat": 4,
 "nbformat_minor": 5
}
