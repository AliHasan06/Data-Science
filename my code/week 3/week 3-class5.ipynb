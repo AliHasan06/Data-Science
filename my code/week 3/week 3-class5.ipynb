{
 "cells": [
  {
   "cell_type": "markdown",
   "metadata": {},
   "source": [
    "# test"
   ]
  },
  {
   "cell_type": "code",
   "execution_count": 2,
   "metadata": {},
   "outputs": [],
   "source": [
    "# import math\n",
    "\n",
    "# def point_distance(x1, y1, x2, y2):\n",
    "#     # Calculate the distance using the distance formula\n",
    "#     distance = math.sqrt((x2 - x1) ** 2 + (y2 - y1) ** 2)\n",
    "#     return distance\n",
    "\n",
    "\n",
    "# if __name__ == \"__main__\":\n",
    "#     # Define coordinates for two points\n",
    "#     x1, y1 = 1, 2  # First point (X1, Y1)\n",
    "#     x2, y2 = 4, 6  # Second point (X2, Y2)"
   ]
  },
  {
   "cell_type": "markdown",
   "metadata": {},
   "source": [
    "Given the string sentence = \"Python programming is fun\", write code to:\n",
    "\n",
    "- Convert the string to uppercase.\n",
    "- Replace \"fun\" with \"awesome\".\n",
    "- Split the string into a list of words."
   ]
  },
  {
   "cell_type": "code",
   "execution_count": 61,
   "metadata": {},
   "outputs": [
    {
     "name": "stdout",
     "output_type": "stream",
     "text": [
      "['PYTHON', 'PROGRAMMING', 'ADSKAD', 'DBA', 'AWESOME']\n"
     ]
    }
   ],
   "source": [
    "sentence =\"Python programming adskad dba dj \"\n",
    "#print(sentence.upper().split())\n",
    "new = sentence.upper().split()\n",
    "new[len(new)-1] = 'AWESOME'\n",
    "print(new)\n",
    "\n",
    "\n"
   ]
  },
  {
   "cell_type": "markdown",
   "metadata": {},
   "source": [
    "Given a string, \"Hello from the other side\", write code to count the number of vowels in the string."
   ]
  },
  {
   "cell_type": "code",
   "execution_count": 39,
   "metadata": {},
   "outputs": [],
   "source": [
    "string= \"Hello from the other side\"\n",
    "\n",
    "vowels = \"aeiouAEIOU\"\n",
    "for a in string.split():\n",
    "    if a in vowels:\n",
    "        print(a)"
   ]
  },
  {
   "cell_type": "code",
   "execution_count": null,
   "metadata": {},
   "outputs": [],
   "source": []
  }
 ],
 "metadata": {
  "kernelspec": {
   "display_name": "base",
   "language": "python",
   "name": "python3"
  },
  "language_info": {
   "codemirror_mode": {
    "name": "ipython",
    "version": 3
   },
   "file_extension": ".py",
   "mimetype": "text/x-python",
   "name": "python",
   "nbconvert_exporter": "python",
   "pygments_lexer": "ipython3",
   "version": "3.12.4"
  }
 },
 "nbformat": 4,
 "nbformat_minor": 2
}
