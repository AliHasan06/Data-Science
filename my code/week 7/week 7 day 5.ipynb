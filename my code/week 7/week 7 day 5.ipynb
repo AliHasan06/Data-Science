{
 "cells": [
  {
   "cell_type": "markdown",
   "metadata": {},
   "source": [
    "# Clustering\n",
    "# Unsupervised Learning"
   ]
  },
  {
   "cell_type": "markdown",
   "metadata": {},
   "source": []
  },
  {
   "cell_type": "code",
   "execution_count": 2,
   "metadata": {},
   "outputs": [
    {
     "name": "stderr",
     "output_type": "stream",
     "text": [
      "c:\\Users\\dilib.DESKTOP-GTP80ID\\anaconda3\\Lib\\site-packages\\sklearn\\cluster\\_kmeans.py:1446: UserWarning: KMeans is known to have a memory leak on Windows with MKL, when there are less chunks than available threads. You can avoid it by setting the environment variable OMP_NUM_THREADS=1.\n",
      "  warnings.warn(\n"
     ]
    }
   ],
   "source": [
    "# Create an example of KMeans clustering\n",
    "\n",
    "import numpy as np\n",
    "import matplotlib.pyplot as plt\n",
    "from sklearn.cluster import KMeans\n",
    "\n",
    "# Create a dataset\n",
    "data = np.array([[1, 2], [5, 8], [1.5, 1.8], [8, 8], [1, 0.6], [9, 11]])\n",
    "\n",
    "# Create a KMeans object\n",
    "kmeans_model = KMeans(n_clusters=3)\n",
    "\n",
    "# Fit the KMeans object to the data\n",
    "kmeans_model.fit(data)\n",
    "\n",
    "# Get the centroids\n",
    "centroids = kmeans_model.cluster_centers_\n",
    "\n",
    "# Get the labels\n",
    "labels = kmeans_model.labels_\n",
    "\n"
   ]
  },
  {
   "cell_type": "code",
   "execution_count": 4,
   "metadata": {},
   "outputs": [
    {
     "name": "stdout",
     "output_type": "stream",
     "text": [
      "Loop Iteration: 0\n",
      "X point 1.0\n",
      "Y point 2.0\n",
      "Label from K Means for the X,Y 0\n",
      "Centroid for the label [1.16666667 1.46666667] \n",
      "\n",
      "Loop Iteration: 1\n",
      "X point 5.0\n",
      "Y point 8.0\n",
      "Label from K Means for the X,Y 2\n",
      "Centroid for the label [5. 8.] \n",
      "\n",
      "Loop Iteration: 2\n",
      "X point 1.5\n",
      "Y point 1.8\n",
      "Label from K Means for the X,Y 0\n",
      "Centroid for the label [1.16666667 1.46666667] \n",
      "\n",
      "Loop Iteration: 3\n",
      "X point 8.0\n",
      "Y point 8.0\n",
      "Label from K Means for the X,Y 1\n",
      "Centroid for the label [8.5 9.5] \n",
      "\n",
      "Loop Iteration: 4\n",
      "X point 1.0\n",
      "Y point 0.6\n",
      "Label from K Means for the X,Y 0\n",
      "Centroid for the label [1.16666667 1.46666667] \n",
      "\n",
      "Loop Iteration: 5\n",
      "X point 9.0\n",
      "Y point 11.0\n",
      "Label from K Means for the X,Y 1\n",
      "Centroid for the label [8.5 9.5] \n",
      "\n"
     ]
    },
    {
     "data": {
      "image/png": "[encoded data removed]",
      "text/plain": [
       "<Figure size 640x480 with 1 Axes>"
      ]
     },
     "metadata": {},
     "output_type": "display_data"
    }
   ],
   "source": [
    "# Plot the data and label each data point with its index\n",
    "colors = [\"g.\", \"r.\", \"b.\"]\n",
    "for i in range(len(data)):\n",
    "    plt.plot(data[i][0], data[i][1], colors[labels[i]], markersize=10)\n",
    "    plt.text(data[i][0], data[i][1], str(i))\n",
    "    print(\"Loop Iteration:\", i)\n",
    "    print(\"X point\", data[i][0])\n",
    "    print(\"Y point\", data[i][1])\n",
    "    print(\"Label from K Means for the X,Y\", labels[i])\n",
    "    print(\"Centroid for the label\", centroids[labels[i]], \"\\n\")\n",
    "\n",
    "# Plot the centroids and label each centroid with centroid label\n",
    "for i in range(len(centroids)):\n",
    "    plt.plot(centroids[i][0], centroids[i][1], \"bx\", markersize=10, markeredgewidth=2) # make the X blue and bigger\n",
    "    plt.text(centroids[i][0], centroids[i][1], \"Centroid \" + str(i))\n",
    "plt.xlabel(\"X\")\n",
    "plt.ylabel(\"Y\")\n",
    "plt.grid()\n",
    "plt.title(\"KMeans Clustering\")\n",
    "plt.show()"
   ]
  },
  {
   "cell_type": "code",
   "execution_count": null,
   "metadata": {},
   "outputs": [],
   "source": []
  }
 ],
 "metadata": {
  "kernelspec": {
   "display_name": "Python 3",
   "language": "python",
   "name": "python3"
  },
  "language_info": {
   "codemirror_mode": {
    "name": "ipython",
    "version": 3
   },
   "file_extension": ".py",
   "mimetype": "text/x-python",
   "name": "python",
   "nbconvert_exporter": "python",
   "pygments_lexer": "ipython3",
   "version": "3.12.4"
  }
 },
 "nbformat": 4,
 "nbformat_minor": 2
}
