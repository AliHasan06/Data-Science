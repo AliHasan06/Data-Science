{
 "cells": [
  {
   "cell_type": "markdown",
   "metadata": {},
   "source": [
    "### **Write a Python program that asks the user for two numbers and then prints the sum, product, and difference of the two numbers using formatted output.**"
   ]
  },
  {
   "cell_type": "code",
   "execution_count": 95,
   "metadata": {},
   "outputs": [],
   "source": [
    "# Sample customer feedback dataset as lists\n",
    "customer_id = [101,102,103,104,105]\n",
    "feedback = [\n",
    "    \"  Excellent service and fast delivery!!   \",\n",
    "    \"Horrible support, never ordering again...\",\n",
    "    \"Great quality but packaging was bad. \",\n",
    "    \"    Amazing product, will recommend.    \",\n",
    "    \"Not happy with the product!   \"\n",
    "]"
   ]
  },
  {
   "cell_type": "code",
   "execution_count": 101,
   "metadata": {},
   "outputs": [
    {
     "name": "stdout",
     "output_type": "stream",
     "text": [
      "original dataset:\n",
      "customerID: [101, 102, 103, 104, 105], feedback: ['  Excellent service and fast delivery!!   ', 'Horrible support, never ordering again...', 'Great quality but packaging was bad. ', '    Amazing product, will recommend.    ', 'Not happy with the product!   ']\n",
      "customerID: [101, 102, 103, 104, 105], feedback: ['  Excellent service and fast delivery!!   ', 'Horrible support, never ordering again...', 'Great quality but packaging was bad. ', '    Amazing product, will recommend.    ', 'Not happy with the product!   ']\n",
      "customerID: [101, 102, 103, 104, 105], feedback: ['  Excellent service and fast delivery!!   ', 'Horrible support, never ordering again...', 'Great quality but packaging was bad. ', '    Amazing product, will recommend.    ', 'Not happy with the product!   ']\n",
      "customerID: [101, 102, 103, 104, 105], feedback: ['  Excellent service and fast delivery!!   ', 'Horrible support, never ordering again...', 'Great quality but packaging was bad. ', '    Amazing product, will recommend.    ', 'Not happy with the product!   ']\n",
      "customerID: [101, 102, 103, 104, 105], feedback: ['  Excellent service and fast delivery!!   ', 'Horrible support, never ordering again...', 'Great quality but packaging was bad. ', '    Amazing product, will recommend.    ', 'Not happy with the product!   ']\n"
     ]
    }
   ],
   "source": [
    "print('original dataset:')\n",
    "for i in range(len(feedback)):\n",
    "    print(f\"customerID: {customer_id}, feedback: {feedback}\")\n"
   ]
  },
  {
   "cell_type": "code",
   "execution_count": 103,
   "metadata": {},
   "outputs": [
    {
     "name": "stdout",
     "output_type": "stream",
     "text": [
      "original dataset:\n",
      "customerID: 101, feedback:   Excellent service and fast delivery!!   \n",
      "customerID: 102, feedback: Horrible support, never ordering again...\n",
      "customerID: 103, feedback: Great quality but packaging was bad. \n",
      "customerID: 104, feedback:     Amazing product, will recommend.    \n",
      "customerID: 105, feedback: Not happy with the product!   \n"
     ]
    }
   ],
   "source": [
    "print('original dataset:')\n",
    "for i in range(len(feedback)):\n",
    "    print(f\"customerID: {customer_id[i]}, feedback: {feedback[i]}\")"
   ]
  },
  {
   "cell_type": "markdown",
   "metadata": {},
   "source": []
  },
  {
   "cell_type": "markdown",
   "metadata": {},
   "source": [
    "# for loops and while loop"
   ]
  },
  {
   "cell_type": "code",
   "execution_count": 10,
   "metadata": {},
   "outputs": [
    {
     "name": "stdout",
     "output_type": "stream",
     "text": [
      "s\n",
      "s\n",
      "s\n",
      "s\n",
      "s\n",
      "s\n",
      "s\n",
      "s\n"
     ]
    }
   ],
   "source": [
    "for i in range(1,9):\n",
    "    print('s')"
   ]
  },
  {
   "cell_type": "code",
   "execution_count": 7,
   "metadata": {},
   "outputs": [
    {
     "name": "stdout",
     "output_type": "stream",
     "text": [
      "pen\n",
      "notebook\n",
      "pencil\n",
      "lunch box\n"
     ]
    }
   ],
   "source": [
    "item = ['pen', 'notebook', 'pencil', 'lunch box']\n",
    "index = 0\n",
    "item_len_ = len(item)\n",
    "\n",
    "while index < item_len_:\n",
    "    print(item[index])\n",
    "    index += 1"
   ]
  },
  {
   "cell_type": "code",
   "execution_count": 11,
   "metadata": {},
   "outputs": [
    {
     "name": "stdout",
     "output_type": "stream",
     "text": [
      "pen\n",
      "notebook\n",
      "pencil\n",
      "lunch box\n"
     ]
    }
   ],
   "source": [
    "item = ['pen', 'notebook', 'pencil', 'lunch box']\n",
    "\n",
    "for i in item:\n",
    "    print(i)"
   ]
  },
  {
   "cell_type": "code",
   "execution_count": 13,
   "metadata": {},
   "outputs": [
    {
     "name": "stdout",
     "output_type": "stream",
     "text": [
      "i\n",
      "t\n",
      "e\n",
      "m\n",
      "s\n"
     ]
    }
   ],
   "source": [
    "for i in \"items\":\n",
    "    print(i)"
   ]
  },
  {
   "cell_type": "code",
   "execution_count": 14,
   "metadata": {},
   "outputs": [
    {
     "name": "stdout",
     "output_type": "stream",
     "text": [
      "pen\n",
      "notebook\n",
      "pencil\n",
      "lunch box\n"
     ]
    }
   ],
   "source": [
    "for i in ['pen', 'notebook', 'pencil', 'lunch box']:\n",
    "    print(i)"
   ]
  },
  {
   "cell_type": "code",
   "execution_count": 18,
   "metadata": {},
   "outputs": [
    {
     "name": "stdout",
     "output_type": "stream",
     "text": [
      "apple\n",
      "orange\n",
      "green\n"
     ]
    }
   ],
   "source": [
    "fruit = ['apple', 'orange', 'green', 'blue']\n",
    "for i in fruit:\n",
    "    print(i)\n",
    "    if i == 'green':\n",
    "      break\n"
   ]
  },
  {
   "cell_type": "code",
   "execution_count": null,
   "metadata": {},
   "outputs": [],
   "source": []
  },
  {
   "cell_type": "code",
   "execution_count": 50,
   "metadata": {},
   "outputs": [
    {
     "name": "stdout",
     "output_type": "stream",
     "text": [
      "apple\n",
      "orange\n",
      "blue\n"
     ]
    }
   ],
   "source": [
    "fruit = ['apple', 'orange', 'green', 'blue']\n",
    "for c in fruit:\n",
    "    if c == \"green\":\n",
    "      continue\n",
    "    print(c) "
   ]
  },
  {
   "cell_type": "code",
   "execution_count": 54,
   "metadata": {},
   "outputs": [
    {
     "name": "stdout",
     "output_type": "stream",
     "text": [
      "2\n",
      "3\n",
      "4\n",
      "5\n",
      "6\n",
      "7\n",
      "8\n"
     ]
    }
   ],
   "source": [
    "for i in range(2,9):\n",
    "    print(i)\n",
    "    \n",
    "    "
   ]
  },
  {
   "cell_type": "markdown",
   "metadata": {},
   "source": [
    "### range ke first arg mein starting value and second arg mein ending value and third arg mein jitne ka gap hona chayie"
   ]
  },
  {
   "cell_type": "code",
   "execution_count": 55,
   "metadata": {},
   "outputs": [
    {
     "name": "stdout",
     "output_type": "stream",
     "text": [
      "2\n",
      "5\n",
      "8\n",
      "11\n",
      "14\n",
      "17\n",
      "20\n",
      "23\n",
      "26\n",
      "29\n"
     ]
    }
   ],
   "source": [
    "for x in range(2, 30, 3):\n",
    "  print(x)\n",
    "  "
   ]
  },
  {
   "cell_type": "code",
   "execution_count": 56,
   "metadata": {},
   "outputs": [
    {
     "name": "stdout",
     "output_type": "stream",
     "text": [
      "1\n",
      "3\n",
      "5\n",
      "7\n",
      "9\n"
     ]
    }
   ],
   "source": [
    "for x in range(1,10,2):\n",
    "    print(x)"
   ]
  },
  {
   "cell_type": "code",
   "execution_count": null,
   "metadata": {},
   "outputs": [],
   "source": []
  },
  {
   "cell_type": "markdown",
   "metadata": {},
   "source": [
    "# Accessing a specific digit from a number"
   ]
  },
  {
   "cell_type": "code",
   "execution_count": 89,
   "metadata": {},
   "outputs": [
    {
     "data": {
      "text/plain": [
       "'g'"
      ]
     },
     "execution_count": 89,
     "metadata": {},
     "output_type": "execute_result"
    }
   ],
   "source": [
    "\n",
    "num1 = input('tell the number')\n",
    "num2 = int(input('find the num'))\n",
    "# first input se string milrhi hai\n",
    "# second input se index lerha hai output mein jo index diya hoga uspr to char hoga ajayega\n",
    "num1[num2]\n"
   ]
  },
  {
   "cell_type": "code",
   "execution_count": 82,
   "metadata": {},
   "outputs": [
    {
     "data": {
      "text/plain": [
       "8"
      ]
     },
     "execution_count": 82,
     "metadata": {},
     "output_type": "execute_result"
    }
   ],
   "source": [
    "# dividing by 10 gives the last digit of num\n",
    "2817982718%10"
   ]
  },
  {
   "cell_type": "code",
   "execution_count": 72,
   "metadata": {},
   "outputs": [
    {
     "data": {
      "text/plain": [
       "list"
      ]
     },
     "execution_count": 72,
     "metadata": {},
     "output_type": "execute_result"
    }
   ],
   "source": [
    "type([])"
   ]
  },
  {
   "cell_type": "markdown",
   "metadata": {},
   "source": [
    "### .format method\n"
   ]
  },
  {
   "cell_type": "code",
   "execution_count": 90,
   "metadata": {},
   "outputs": [
    {
     "name": "stdout",
     "output_type": "stream",
     "text": [
      "hello,ali your age is 12\n"
     ]
    }
   ],
   "source": [
    "name = 'ali'\n",
    "age = 12\n",
    "print('hello,{} your age is {}'.format(name,age))"
   ]
  },
  {
   "cell_type": "code",
   "execution_count": 92,
   "metadata": {},
   "outputs": [
    {
     "data": {
      "text/plain": [
       "'a'"
      ]
     },
     "execution_count": 92,
     "metadata": {},
     "output_type": "execute_result"
    }
   ],
   "source": [
    "str1 = ['a','b','c','d','e','f']\n",
    "str1[-6]"
   ]
  },
  {
   "cell_type": "markdown",
   "metadata": {},
   "source": [
    "# CONDITIONAL STATEMENTS"
   ]
  },
  {
   "cell_type": "code",
   "execution_count": null,
   "metadata": {},
   "outputs": [],
   "source": []
  }
 ],
 "metadata": {
  "kernelspec": {
   "display_name": "base",
   "language": "python",
   "name": "python3"
  },
  "language_info": {
   "codemirror_mode": {
    "name": "ipython",
    "version": 3
   },
   "file_extension": ".py",
   "mimetype": "text/x-python",
   "name": "python",
   "nbconvert_exporter": "python",
   "pygments_lexer": "ipython3",
   "version": "3.12.4"
  }
 },
 "nbformat": 4,
 "nbformat_minor": 2
}
